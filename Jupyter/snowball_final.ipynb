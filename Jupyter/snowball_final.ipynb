{
 "cells": [
  {
   "cell_type": "markdown",
   "metadata": {},
   "source": [
    "# Create and Cancel Snowball job programatically using pyhton"
   ]
  },
  {
   "cell_type": "markdown",
   "metadata": {},
   "source": [
    "# Import boto3 package for AWS "
   ]
  },
  {
   "cell_type": "markdown",
   "metadata": {},
   "source": [
    "Import python package called \"boto3\" to access predefined commands to access AWS management console and perform any actions on various services."
   ]
  },
  {
   "cell_type": "code",
   "execution_count": 64,
   "metadata": {},
   "outputs": [],
   "source": [
    "#Import boto3 package \n",
    "import boto3"
   ]
  },
  {
   "cell_type": "markdown",
   "metadata": {},
   "source": [
    "# Create SNS topic"
   ]
  },
  {
   "cell_type": "markdown",
   "metadata": {},
   "source": [
    "Creates a topic to which notifications can be published. This topic is given as an argument while creating a snowball job.The created topic will send an email or sms, to all the ids provided, whenever there is change in status of snowball job. Users can create at most 100,000 topics."
   ]
  },
  {
   "cell_type": "code",
   "execution_count": 83,
   "metadata": {},
   "outputs": [
    {
     "name": "stdout",
     "output_type": "stream",
     "text": [
      "connected to SNS console\n"
     ]
    }
   ],
   "source": [
    "#connect to SNS(Simple Notification Service) console\n",
    "try :\n",
    "    sns_cons=boto3.client('sns')\n",
    "    print(\"connected to SNS console\")\n",
    "except Exception as e:\n",
    "    print('SNS connection error: ',e)"
   ]
  },
  {
   "cell_type": "code",
   "execution_count": 84,
   "metadata": {},
   "outputs": [
    {
     "name": "stdout",
     "output_type": "stream",
     "text": [
      "{'TopicArn': 'arn:aws:sns:us-east-2:649832261974:Snowball_topic', 'ResponseMetadata': {'RequestId': 'f7e1bb00-1471-5f37-8b34-ec0f70f41ee3', 'HTTPStatusCode': 200, 'HTTPHeaders': {'x-amzn-requestid': 'f7e1bb00-1471-5f37-8b34-ec0f70f41ee3', 'content-type': 'text/xml', 'content-length': '321', 'date': 'Tue, 14 Apr 2020 07:12:04 GMT'}, 'RetryAttempts': 0}}\n"
     ]
    }
   ],
   "source": [
    "#Create an SNS topic\n",
    "\n",
    "try:\n",
    "    sns_response = sns_cons.create_topic(Name='Snowball_topic')\n",
    "    print(sns_response)\n",
    "except Exception as e:\n",
    "    print('SNS error: ',e)"
   ]
  },
  {
   "cell_type": "code",
   "execution_count": 85,
   "metadata": {},
   "outputs": [
    {
     "name": "stdout",
     "output_type": "stream",
     "text": [
      "{'Topics': [{'TopicArn': 'arn:aws:sns:us-east-2:649832261974:Snowball_topic'}], 'ResponseMetadata': {'RequestId': '3e4f6441-1049-5fb8-bfda-334e74c79fe4', 'HTTPStatusCode': 200, 'HTTPHeaders': {'x-amzn-requestid': '3e4f6441-1049-5fb8-bfda-334e74c79fe4', 'content-type': 'text/xml', 'content-length': '379', 'date': 'Tue, 14 Apr 2020 07:12:14 GMT'}, 'RetryAttempts': 0}}\n"
     ]
    }
   ],
   "source": [
    "#List all the SNS topics of your account\n",
    "try:\n",
    "    sns_response = sns_cons.list_topics()\n",
    "    print(sns_response)\n",
    "except Exception as e:\n",
    "    print('SNS error: ',e)"
   ]
  },
  {
   "cell_type": "markdown",
   "metadata": {},
   "source": [
    "# Create S3 Bucket"
   ]
  },
  {
   "cell_type": "markdown",
   "metadata": {},
   "source": [
    "Creates a new bucket. To create a bucket, you must register with Amazon S3 and have a valid AWS Access Key ID to authenticate requests. Anonymous requests are never allowed to create buckets. By creating the bucket, you become the bucket owner.\n",
    "This bucket name is given as an argument while creating a snowball job so that the data will be imported to the bucket."
   ]
  },
  {
   "cell_type": "code",
   "execution_count": 86,
   "metadata": {},
   "outputs": [
    {
     "name": "stdout",
     "output_type": "stream",
     "text": [
      "connected to S3 console\n"
     ]
    }
   ],
   "source": [
    "#Connect to Amazon S3(Simple Storage Service) console \n",
    "try:\n",
    "    s3_cons=boto3.client('s3')\n",
    "    print(\"connected to S3 console\")\n",
    "except Exception as e:\n",
    "    print('S3 connection error: ',e)"
   ]
  },
  {
   "cell_type": "code",
   "execution_count": null,
   "metadata": {},
   "outputs": [],
   "source": [
    "#Create an S3 bucket with a unique name\n",
    "\n",
    "try:\n",
    "    s3_response = s3_cons.create_bucket(\n",
    "        Bucket=<Enter your bucket name>,\n",
    "        CreateBucketConfiguration={\n",
    "            'LocationConstraint': 'ap-south-1',\n",
    "        },\n",
    "    )\n",
    "\n",
    "    print(s3_response)\n",
    "\n",
    "    print(\"\\n \\n S3 Bucket is created successfully\")\n",
    "except Exception as e:\n",
    "    print('S3 error: ',e)"
   ]
  },
  {
   "cell_type": "code",
   "execution_count": 87,
   "metadata": {},
   "outputs": [
    {
     "name": "stdout",
     "output_type": "stream",
     "text": [
      "{'ResponseMetadata': {'RequestId': 'D3A76F868BC07B3F', 'HostId': '/R+iAk3d/JblbJzqEcdFZhqJ0HXHdnF43atUYRZQhUrHZlpWUPk2UNnrSGTi6CFghFulpFa8SLo=', 'HTTPStatusCode': 200, 'HTTPHeaders': {'x-amz-id-2': '/R+iAk3d/JblbJzqEcdFZhqJ0HXHdnF43atUYRZQhUrHZlpWUPk2UNnrSGTi6CFghFulpFa8SLo=', 'x-amz-request-id': 'D3A76F868BC07B3F', 'date': 'Tue, 14 Apr 2020 07:13:13 GMT', 'content-type': 'application/xml', 'transfer-encoding': 'chunked', 'server': 'AmazonS3'}, 'RetryAttempts': 0}, 'Buckets': [{'Name': 'nitin-limeabc', 'CreationDate': datetime.datetime(2020, 4, 13, 10, 21, 10, tzinfo=tzlocal())}, {'Name': 'oc-cmcuxd-sbx-centralizedlogs', 'CreationDate': datetime.datetime(2020, 3, 27, 20, 35, tzinfo=tzlocal())}, {'Name': 'oc-cmcuxd-sbx-centralizedlogs-us-east-2', 'CreationDate': datetime.datetime(2020, 4, 13, 10, 20, 34, tzinfo=tzlocal())}, {'Name': 'oc-cmcuxd-sbx-centralizedlogs-us-west-2', 'CreationDate': datetime.datetime(2020, 4, 13, 10, 18, 25, tzinfo=tzlocal())}, {'Name': 'oc-cmcuxd-sbx-elb-logs', 'CreationDate': datetime.datetime(2020, 3, 27, 20, 34, 28, tzinfo=tzlocal())}, {'Name': 'ocp-649832261974-assets', 'CreationDate': datetime.datetime(2020, 4, 13, 10, 8, 10, tzinfo=tzlocal())}, {'Name': 'snowball-import-job-nitink', 'CreationDate': datetime.datetime(2020, 4, 13, 10, 19, 6, tzinfo=tzlocal())}, {'Name': 'snowball-import-job-nitink1', 'CreationDate': datetime.datetime(2020, 4, 13, 10, 26, 6, tzinfo=tzlocal())}], 'Owner': {'ID': '53f6ab591a6facdbc687d889ade0135c03ad117450244784297801cfc0c6a2c8'}}\n"
     ]
    }
   ],
   "source": [
    "#List all the S3 buckets present in your account\n",
    "\n",
    "try:\n",
    "    s3_response = s3_cons.list_buckets()\n",
    "    print(s3_response)\n",
    "except Exception as e:\n",
    "    print('S3 error: ',e)"
   ]
  },
  {
   "cell_type": "markdown",
   "metadata": {},
   "source": [
    "# Create KMS Key"
   ]
  },
  {
   "cell_type": "markdown",
   "metadata": {},
   "source": [
    "Creates a unique customer managed customer master key (CMK) in your AWS account and Region. This key is given as an argument while creating a snowball job. The key ensures that the data in snowball is encrypted and decrypts automatically when an authorised person accesses it."
   ]
  },
  {
   "cell_type": "code",
   "execution_count": 88,
   "metadata": {},
   "outputs": [
    {
     "name": "stdout",
     "output_type": "stream",
     "text": [
      "connected to KMS console\n"
     ]
    }
   ],
   "source": [
    "#Connect to Amazon KMS(Key Management Service) console\n",
    "\n",
    "try:\n",
    "    kms_cons=boto3.client('kms')\n",
    "    print(\"connected to KMS console\")\n",
    "except Exception as e:\n",
    "    print('KMS connection error: ',e)"
   ]
  },
  {
   "cell_type": "code",
   "execution_count": 89,
   "metadata": {
    "scrolled": false
   },
   "outputs": [
    {
     "name": "stdout",
     "output_type": "stream",
     "text": [
      "{'KeyMetadata': {'AWSAccountId': '649832261974', 'KeyId': '73973aa1-5d85-45ad-ad5c-f0a5846adf66', 'Arn': 'arn:aws:kms:us-east-2:649832261974:key/73973aa1-5d85-45ad-ad5c-f0a5846adf66', 'CreationDate': datetime.datetime(2020, 4, 14, 7, 15, 29, 469000, tzinfo=tzlocal()), 'Enabled': True, 'Description': '', 'KeyUsage': 'ENCRYPT_DECRYPT', 'KeyState': 'Enabled', 'Origin': 'AWS_KMS', 'KeyManager': 'CUSTOMER', 'CustomerMasterKeySpec': 'SYMMETRIC_DEFAULT', 'EncryptionAlgorithms': ['SYMMETRIC_DEFAULT']}, 'ResponseMetadata': {'RequestId': '6e649a8f-9111-4182-93b5-c11c50b64f9f', 'HTTPStatusCode': 200, 'HTTPHeaders': {'x-amzn-requestid': '6e649a8f-9111-4182-93b5-c11c50b64f9f', 'cache-control': 'no-cache, no-store, must-revalidate, private', 'expires': '0', 'pragma': 'no-cache', 'date': 'Tue, 14 Apr 2020 07:15:29 GMT', 'content-type': 'application/x-amz-json-1.1', 'content-length': '424'}, 'RetryAttempts': 0}}\n"
     ]
    }
   ],
   "source": [
    "#Create a KMS key that encrypts your data\n",
    "\n",
    "try:\n",
    "    kms_response = kms_cons.create_key(\n",
    "        # One or more tags. Each tag consists of a tag key and a tag value.\n",
    "        Tags=[\n",
    "            {\n",
    "                'TagKey': 'KeyName',\n",
    "                'TagValue': 'SnowballKey',\n",
    "            },\n",
    "        ],\n",
    "    )\n",
    "\n",
    "    print(kms_response)\n",
    "except Exception as e:\n",
    "    print('KMS error: ',e)"
   ]
  },
  {
   "cell_type": "code",
   "execution_count": 96,
   "metadata": {},
   "outputs": [
    {
     "name": "stdout",
     "output_type": "stream",
     "text": [
      "{'Keys': [{'KeyId': '24c11903-34ee-493c-b7de-0b98972c7c67', 'KeyArn': 'arn:aws:kms:us-east-2:649832261974:key/24c11903-34ee-493c-b7de-0b98972c7c67'}, {'KeyId': '346d5a41-4edc-46c4-9a81-fee1cba1da72', 'KeyArn': 'arn:aws:kms:us-east-2:649832261974:key/346d5a41-4edc-46c4-9a81-fee1cba1da72'}, {'KeyId': '6c36663e-28b6-43ba-9698-9c2c1636f133', 'KeyArn': 'arn:aws:kms:us-east-2:649832261974:key/6c36663e-28b6-43ba-9698-9c2c1636f133'}, {'KeyId': '73973aa1-5d85-45ad-ad5c-f0a5846adf66', 'KeyArn': 'arn:aws:kms:us-east-2:649832261974:key/73973aa1-5d85-45ad-ad5c-f0a5846adf66'}, {'KeyId': '7dcc0a45-2b11-41cb-a9e4-cabbdb8f281c', 'KeyArn': 'arn:aws:kms:us-east-2:649832261974:key/7dcc0a45-2b11-41cb-a9e4-cabbdb8f281c'}], 'Truncated': False, 'ResponseMetadata': {'RequestId': '945db476-7d28-4e6b-a056-ef5f24aa56a5', 'HTTPStatusCode': 200, 'HTTPHeaders': {'x-amzn-requestid': '945db476-7d28-4e6b-a056-ef5f24aa56a5', 'cache-control': 'no-cache, no-store, must-revalidate, private', 'expires': '0', 'pragma': 'no-cache', 'date': 'Tue, 14 Apr 2020 07:21:39 GMT', 'content-type': 'application/x-amz-json-1.1', 'content-length': '721'}, 'RetryAttempts': 0}}\n"
     ]
    }
   ],
   "source": [
    "## List all kms keys present in your account\n",
    "\n",
    "try:\n",
    "    kms_response = kms_cons.list_keys()\n",
    "    print(kms_response)\n",
    "except Exception as e:\n",
    "    print('KMS error: ',e)"
   ]
  },
  {
   "cell_type": "code",
   "execution_count": 91,
   "metadata": {},
   "outputs": [
    {
     "name": "stdout",
     "output_type": "stream",
     "text": [
      "{'ResponseMetadata': {'RequestId': '8131d95d-d8b0-4f36-9f50-46c35e1811a0', 'HTTPStatusCode': 200, 'HTTPHeaders': {'x-amzn-requestid': '8131d95d-d8b0-4f36-9f50-46c35e1811a0', 'cache-control': 'no-cache, no-store, must-revalidate, private', 'expires': '0', 'pragma': 'no-cache', 'date': 'Tue, 14 Apr 2020 07:16:13 GMT', 'content-type': 'application/x-amz-json-1.1', 'content-length': '0'}, 'RetryAttempts': 0}}\n"
     ]
    }
   ],
   "source": [
    "#Define an aliase name for the created key\n",
    "\n",
    "try:\n",
    "    kms_response = kms_cons.create_alias(\n",
    "        # The alias to create. Aliases must begin with 'alias/'. Do not use aliases that begin with 'alias/aws' \n",
    "        #because they are reserved for use by AWS.\n",
    "        AliasName='alias/snowball_key1',\n",
    "        # The identifier of the CMK whose alias you are creating. You can use the key ID or \n",
    "        #the Amazon Resource Name (ARN) of the CMK.\n",
    "        TargetKeyId='73973aa1-5d85-45ad-ad5c-f0a5846adf66',\n",
    "    )\n",
    "    print(kms_response)\n",
    "except Exception as e:\n",
    "    print('KMS error: ',e)"
   ]
  },
  {
   "cell_type": "markdown",
   "metadata": {},
   "source": [
    "# Create an IAM Role"
   ]
  },
  {
   "cell_type": "markdown",
   "metadata": {},
   "source": [
    "Creates a new role for your AWS account.This role is given as an argument while creating a snowball job. \n",
    "This role defines the necessary permissions for snowball to access other aws services like S3."
   ]
  },
  {
   "cell_type": "code",
   "execution_count": 92,
   "metadata": {},
   "outputs": [
    {
     "name": "stdout",
     "output_type": "stream",
     "text": [
      "connected to IAM console\n"
     ]
    }
   ],
   "source": [
    "#Connect to Amazon IAM(Identiti and Access Management) console\n",
    "\n",
    "try:\n",
    "    iam_cons=boto3.client('iam')\n",
    "    print(\"connected to IAM console\")\n",
    "except Exception as e:\n",
    "    print('IAM connection error: ',e)"
   ]
  },
  {
   "cell_type": "code",
   "execution_count": 93,
   "metadata": {},
   "outputs": [
    {
     "name": "stdout",
     "output_type": "stream",
     "text": [
      "{'Version': '2012-10-17', 'Statement': [{'Effect': 'Allow', 'Principal': {'Service': 'importexport.amazonaws.com'}, 'Action': 'sts:AssumeRole'}]}\n"
     ]
    }
   ],
   "source": [
    "#Create an AssumeRolePolicyDocument, by providing the Service, which needs to be provided while creating a role. \n",
    "\n",
    "try:\n",
    "    AssumeRolePolicyDocument={\n",
    "        \"Version\": \"2012-10-17\",\n",
    "        \"Statement\": [\n",
    "            {\n",
    "                \"Effect\": \"Allow\",\n",
    "                \"Principal\":{ \"Service\": \"importexport.amazonaws.com\" },\n",
    "                \"Action\": \"sts:AssumeRole\"\n",
    "            }\n",
    "        ]\n",
    "    }\n",
    "\n",
    "    print(AssumeRolePolicyDocument)\n",
    "except Exception as e:\n",
    "    print('policy error: ',e)"
   ]
  },
  {
   "cell_type": "markdown",
   "metadata": {},
   "source": [
    "# Attach permissions policy to the role"
   ]
  },
  {
   "cell_type": "markdown",
   "metadata": {},
   "source": [
    "Attaches the specified managed policy to the specified IAM role. When you attach a managed policy to a role, the managed policy becomes part of the role's permission (access) policy. This policy defines the aws services and the necessary permissions that a snowball should have."
   ]
  },
  {
   "cell_type": "code",
   "execution_count": 107,
   "metadata": {},
   "outputs": [
    {
     "name": "stdout",
     "output_type": "stream",
     "text": [
      "{'ResponseMetadata': {'RequestId': 'ff6b0e8f-247a-4912-8255-6f099da8d3d3', 'HTTPStatusCode': 200, 'HTTPHeaders': {'x-amzn-requestid': 'ff6b0e8f-247a-4912-8255-6f099da8d3d3', 'content-type': 'text/xml', 'content-length': '212', 'date': 'Tue, 14 Apr 2020 07:43:21 GMT'}, 'RetryAttempts': 0}}\n"
     ]
    }
   ],
   "source": [
    "#Attach a policy, which has neccessary permissions defined, to above IAM Role\n",
    "#below policy defines Full access to S3\n",
    "\n",
    "try:\n",
    "    pol_response = iam_cons.attach_role_policy(\n",
    "            RoleName='snowball-import-export-s3-role3',\n",
    "            PolicyArn='arn:aws:iam::649832261974:policy/Snowball-job')\n",
    "    print(pol_response)\n",
    "except Exception as e:\n",
    "    print('role error: ',e)"
   ]
  },
  {
   "cell_type": "code",
   "execution_count": 98,
   "metadata": {},
   "outputs": [
    {
     "name": "stdout",
     "output_type": "stream",
     "text": [
      "{'Roles': [{'Path': '/service-role/', 'RoleName': 'AmazonSageMaker-ExecutionRole-20200402T191879', 'RoleId': 'AROAZOTIFNFLHMDJXWUW2', 'Arn': 'arn:aws:iam::649832261974:role/service-role/AmazonSageMaker-ExecutionRole-20200402T191879', 'CreateDate': datetime.datetime(2020, 4, 2, 13, 48, 19, tzinfo=tzlocal()), 'AssumeRolePolicyDocument': {'Version': '2012-10-17', 'Statement': [{'Effect': 'Allow', 'Principal': {'Service': 'sagemaker.amazonaws.com'}, 'Action': 'sts:AssumeRole'}]}, 'Description': 'SageMaker execution role created from the SageMaker AWS Management Console.', 'MaxSessionDuration': 3600}, {'Path': '/service-role/', 'RoleName': 'AmazonSageMaker-ExecutionRole-20200403T110985', 'RoleId': 'AROAZOTIFNFLJD7OGM26V', 'Arn': 'arn:aws:iam::649832261974:role/service-role/AmazonSageMaker-ExecutionRole-20200403T110985', 'CreateDate': datetime.datetime(2020, 4, 3, 5, 39, 38, tzinfo=tzlocal()), 'AssumeRolePolicyDocument': {'Version': '2012-10-17', 'Statement': [{'Effect': 'Allow', 'Principal': {'Service': 'sagemaker.amazonaws.com'}, 'Action': 'sts:AssumeRole'}]}, 'Description': 'SageMaker execution role created from the SageMaker AWS Management Console.', 'MaxSessionDuration': 3600}, {'Path': '/service-role/', 'RoleName': 'AmazonSageMaker-ExecutionRole-20200407T143126', 'RoleId': 'AROAZOTIFNFLGZQO22YZD', 'Arn': 'arn:aws:iam::649832261974:role/service-role/AmazonSageMaker-ExecutionRole-20200407T143126', 'CreateDate': datetime.datetime(2020, 4, 7, 9, 1, 47, tzinfo=tzlocal()), 'AssumeRolePolicyDocument': {'Version': '2012-10-17', 'Statement': [{'Effect': 'Allow', 'Principal': {'Service': 'sagemaker.amazonaws.com'}, 'Action': 'sts:AssumeRole'}]}, 'Description': 'SageMaker execution role created from the SageMaker AWS Management Console.', 'MaxSessionDuration': 3600}, {'Path': '/', 'RoleName': 'AWSCloudFormationStackSetExecutionRole', 'RoleId': 'AROAZOTIFNFLAOMZN2DNT', 'Arn': 'arn:aws:iam::649832261974:role/AWSCloudFormationStackSetExecutionRole', 'CreateDate': datetime.datetime(2020, 3, 27, 19, 57, 56, tzinfo=tzlocal()), 'AssumeRolePolicyDocument': {'Version': '2012-10-17', 'Statement': [{'Effect': 'Allow', 'Principal': {'AWS': ['arn:aws:iam::311648320290:role/GovernanceLambdaExecutionRole', 'arn:aws:iam::311648320290:role/AWSCloudFormationStackSetAdministrationRole', 'arn:aws:iam::311648320290:role/GovernanceLambdaExecutionRole-V2']}, 'Action': 'sts:AssumeRole'}]}, 'MaxSessionDuration': 3600}, {'Path': '/aws-service-role/eks-nodegroup.amazonaws.com/', 'RoleName': 'AWSServiceRoleForAmazonEKSNodegroup', 'RoleId': 'AROAZOTIFNFLPC2C4SWUV', 'Arn': 'arn:aws:iam::649832261974:role/aws-service-role/eks-nodegroup.amazonaws.com/AWSServiceRoleForAmazonEKSNodegroup', 'CreateDate': datetime.datetime(2020, 4, 3, 14, 18, 53, tzinfo=tzlocal()), 'AssumeRolePolicyDocument': {'Version': '2012-10-17', 'Statement': [{'Effect': 'Allow', 'Principal': {'Service': 'eks-nodegroup.amazonaws.com'}, 'Action': 'sts:AssumeRole'}]}, 'Description': 'Allow EKS to manage nodegroups on your behalf.', 'MaxSessionDuration': 3600}, {'Path': '/aws-service-role/guardduty.amazonaws.com/', 'RoleName': 'AWSServiceRoleForAmazonGuardDuty', 'RoleId': 'AROAZOTIFNFLKUVAXM3FP', 'Arn': 'arn:aws:iam::649832261974:role/aws-service-role/guardduty.amazonaws.com/AWSServiceRoleForAmazonGuardDuty', 'CreateDate': datetime.datetime(2020, 3, 27, 20, 21, 30, tzinfo=tzlocal()), 'AssumeRolePolicyDocument': {'Version': '2012-10-17', 'Statement': [{'Effect': 'Allow', 'Principal': {'Service': 'guardduty.amazonaws.com'}, 'Action': 'sts:AssumeRole'}]}, 'Description': 'A service-linked role required for Amazon GuardDuty to access your resources. ', 'MaxSessionDuration': 3600}, {'Path': '/aws-service-role/cloud9.amazonaws.com/', 'RoleName': 'AWSServiceRoleForAWSCloud9', 'RoleId': 'AROAZOTIFNFLB2ZB6SB6V', 'Arn': 'arn:aws:iam::649832261974:role/aws-service-role/cloud9.amazonaws.com/AWSServiceRoleForAWSCloud9', 'CreateDate': datetime.datetime(2020, 4, 7, 14, 20, 48, tzinfo=tzlocal()), 'AssumeRolePolicyDocument': {'Version': '2012-10-17', 'Statement': [{'Effect': 'Allow', 'Principal': {'Service': 'cloud9.amazonaws.com'}, 'Action': 'sts:AssumeRole'}]}, 'Description': 'Service linked role for AWS Cloud9', 'MaxSessionDuration': 3600}, {'Path': '/aws-service-role/ecs.amazonaws.com/', 'RoleName': 'AWSServiceRoleForECS', 'RoleId': 'AROAZOTIFNFLLVXAMOTA2', 'Arn': 'arn:aws:iam::649832261974:role/aws-service-role/ecs.amazonaws.com/AWSServiceRoleForECS', 'CreateDate': datetime.datetime(2020, 4, 3, 14, 24, 42, tzinfo=tzlocal()), 'AssumeRolePolicyDocument': {'Version': '2012-10-17', 'Statement': [{'Effect': 'Allow', 'Principal': {'Service': 'ecs.amazonaws.com'}, 'Action': 'sts:AssumeRole'}]}, 'Description': 'Role to enable Amazon ECS to manage your cluster.', 'MaxSessionDuration': 3600}, {'Path': '/aws-service-role/fms.amazonaws.com/', 'RoleName': 'AWSServiceRoleForFMS', 'RoleId': 'AROAZOTIFNFLOFQNAY3GO', 'Arn': 'arn:aws:iam::649832261974:role/aws-service-role/fms.amazonaws.com/AWSServiceRoleForFMS', 'CreateDate': datetime.datetime(2020, 3, 27, 19, 57, 44, tzinfo=tzlocal()), 'AssumeRolePolicyDocument': {'Version': '2012-10-17', 'Statement': [{'Effect': 'Allow', 'Principal': {'Service': 'fms.amazonaws.com'}, 'Action': 'sts:AssumeRole'}]}, 'MaxSessionDuration': 3600}, {'Path': '/aws-service-role/organizations.amazonaws.com/', 'RoleName': 'AWSServiceRoleForOrganizations', 'RoleId': 'AROAZOTIFNFLAORLA2TJZ', 'Arn': 'arn:aws:iam::649832261974:role/aws-service-role/organizations.amazonaws.com/AWSServiceRoleForOrganizations', 'CreateDate': datetime.datetime(2020, 3, 27, 19, 57, 22, tzinfo=tzlocal()), 'AssumeRolePolicyDocument': {'Version': '2012-10-17', 'Statement': [{'Effect': 'Allow', 'Principal': {'Service': 'organizations.amazonaws.com'}, 'Action': 'sts:AssumeRole'}]}, 'Description': 'Service-linked role used by AWS Organizations to enable integration of other AWS services with Organizations.', 'MaxSessionDuration': 3600}, {'Path': '/aws-service-role/securityhub.amazonaws.com/', 'RoleName': 'AWSServiceRoleForSecurityHub', 'RoleId': 'AROAZOTIFNFLIBYONKZC7', 'Arn': 'arn:aws:iam::649832261974:role/aws-service-role/securityhub.amazonaws.com/AWSServiceRoleForSecurityHub', 'CreateDate': datetime.datetime(2020, 3, 27, 20, 14, 19, tzinfo=tzlocal()), 'AssumeRolePolicyDocument': {'Version': '2012-10-17', 'Statement': [{'Effect': 'Allow', 'Principal': {'Service': 'securityhub.amazonaws.com'}, 'Action': 'sts:AssumeRole'}]}, 'Description': 'A service-linked role required for AWS Security Hub to access your resources.', 'MaxSessionDuration': 3600}, {'Path': '/aws-service-role/support.amazonaws.com/', 'RoleName': 'AWSServiceRoleForSupport', 'RoleId': 'AROAZOTIFNFLA2VPT6BIL', 'Arn': 'arn:aws:iam::649832261974:role/aws-service-role/support.amazonaws.com/AWSServiceRoleForSupport', 'CreateDate': datetime.datetime(2020, 3, 27, 19, 57, 21, tzinfo=tzlocal()), 'AssumeRolePolicyDocument': {'Version': '2012-10-17', 'Statement': [{'Effect': 'Allow', 'Principal': {'Service': 'support.amazonaws.com'}, 'Action': 'sts:AssumeRole'}]}, 'Description': 'Enables resource access for AWS to provide billing, administrative and support services', 'MaxSessionDuration': 3600}, {'Path': '/aws-service-role/trustedadvisor.amazonaws.com/', 'RoleName': 'AWSServiceRoleForTrustedAdvisor', 'RoleId': 'AROAZOTIFNFLFHGMLARRU', 'Arn': 'arn:aws:iam::649832261974:role/aws-service-role/trustedadvisor.amazonaws.com/AWSServiceRoleForTrustedAdvisor', 'CreateDate': datetime.datetime(2020, 3, 27, 19, 57, 21, tzinfo=tzlocal()), 'AssumeRolePolicyDocument': {'Version': '2012-10-17', 'Statement': [{'Effect': 'Allow', 'Principal': {'Service': 'trustedadvisor.amazonaws.com'}, 'Action': 'sts:AssumeRole'}]}, 'Description': 'Access for the AWS Trusted Advisor Service to help reduce cost, increase performance, and improve security of your AWS environment.', 'MaxSessionDuration': 3600}, {'Path': '/', 'RoleName': 'AWS_Audit', 'RoleId': 'AROAZOTIFNFLLS5BYJ45B', 'Arn': 'arn:aws:iam::649832261974:role/AWS_Audit', 'CreateDate': datetime.datetime(2020, 3, 27, 20, 20, 57, tzinfo=tzlocal()), 'AssumeRolePolicyDocument': {'Version': '2012-10-17', 'Statement': [{'Effect': 'Allow', 'Principal': {'Federated': 'arn:aws:iam::649832261974:saml-provider/Centrify'}, 'Action': 'sts:AssumeRoleWithSAML', 'Condition': {'StringEquals': {'SAML:aud': 'https://signin.aws.amazon.com/saml'}}}]}, 'Description': '', 'MaxSessionDuration': 3600}, {'Path': '/', 'RoleName': 'AWS_Automation', 'RoleId': 'AROAZOTIFNFLMW33BHSJK', 'Arn': 'arn:aws:iam::649832261974:role/AWS_Automation', 'CreateDate': datetime.datetime(2020, 3, 27, 20, 20, 57, tzinfo=tzlocal()), 'AssumeRolePolicyDocument': {'Version': '2012-10-17', 'Statement': [{'Effect': 'Allow', 'Principal': {'Federated': 'arn:aws:iam::649832261974:saml-provider/Centrify'}, 'Action': 'sts:AssumeRoleWithSAML', 'Condition': {'StringEquals': {'SAML:aud': 'https://signin.aws.amazon.com/saml'}}}]}, 'Description': '', 'MaxSessionDuration': 3600}, {'Path': '/', 'RoleName': 'AWS_CloudML-InternalTraining_Admin', 'RoleId': 'AROAZOTIFNFLO3LJBVSFX', 'Arn': 'arn:aws:iam::649832261974:role/AWS_CloudML-InternalTraining_Admin', 'CreateDate': datetime.datetime(2020, 3, 27, 20, 20, 58, tzinfo=tzlocal()), 'AssumeRolePolicyDocument': {'Version': '2012-10-17', 'Statement': [{'Effect': 'Allow', 'Principal': {'Federated': 'arn:aws:iam::649832261974:saml-provider/Centrify'}, 'Action': 'sts:AssumeRoleWithSAML', 'Condition': {'StringEquals': {'SAML:aud': 'https://signin.aws.amazon.com/saml'}}}]}, 'Description': '', 'MaxSessionDuration': 3600}, {'Path': '/', 'RoleName': 'AWS_EGAdmin', 'RoleId': 'AROAZOTIFNFLNEQY4HB2Q', 'Arn': 'arn:aws:iam::649832261974:role/AWS_EGAdmin', 'CreateDate': datetime.datetime(2020, 3, 27, 20, 20, 57, tzinfo=tzlocal()), 'AssumeRolePolicyDocument': {'Version': '2012-10-17', 'Statement': [{'Effect': 'Allow', 'Principal': {'Federated': 'arn:aws:iam::649832261974:saml-provider/Centrify'}, 'Action': 'sts:AssumeRoleWithSAML', 'Condition': {'StringEquals': {'SAML:aud': 'https://signin.aws.amazon.com/saml'}}}]}, 'Description': '', 'MaxSessionDuration': 3600}, {'Path': '/', 'RoleName': 'AWS_FullAdmin', 'RoleId': 'AROAZOTIFNFLFBCVJT3QP', 'Arn': 'arn:aws:iam::649832261974:role/AWS_FullAdmin', 'CreateDate': datetime.datetime(2020, 3, 27, 20, 20, 57, tzinfo=tzlocal()), 'AssumeRolePolicyDocument': {'Version': '2012-10-17', 'Statement': [{'Effect': 'Allow', 'Principal': {'Federated': 'arn:aws:iam::649832261974:saml-provider/Centrify'}, 'Action': 'sts:AssumeRoleWithSAML', 'Condition': {'StringEquals': {'SAML:aud': 'https://signin.aws.amazon.com/saml'}}}]}, 'Description': '', 'MaxSessionDuration': 3600}, {'Path': '/', 'RoleName': 'AWS_IAM_Admin', 'RoleId': 'AROAZOTIFNFLNISTI2AOS', 'Arn': 'arn:aws:iam::649832261974:role/AWS_IAM_Admin', 'CreateDate': datetime.datetime(2020, 3, 27, 20, 20, 57, tzinfo=tzlocal()), 'AssumeRolePolicyDocument': {'Version': '2012-10-17', 'Statement': [{'Effect': 'Allow', 'Principal': {'Federated': 'arn:aws:iam::649832261974:saml-provider/Centrify'}, 'Action': 'sts:AssumeRoleWithSAML', 'Condition': {'StringEquals': {'SAML:aud': 'https://signin.aws.amazon.com/saml'}}}]}, 'Description': '', 'MaxSessionDuration': 3600}, {'Path': '/', 'RoleName': 'AWS_KMS_Admin', 'RoleId': 'AROAZOTIFNFLAOQVNAGDO', 'Arn': 'arn:aws:iam::649832261974:role/AWS_KMS_Admin', 'CreateDate': datetime.datetime(2020, 3, 27, 20, 20, 57, tzinfo=tzlocal()), 'AssumeRolePolicyDocument': {'Version': '2012-10-17', 'Statement': [{'Effect': 'Allow', 'Principal': {'Federated': 'arn:aws:iam::649832261974:saml-provider/Centrify'}, 'Action': 'sts:AssumeRoleWithSAML', 'Condition': {'StringEquals': {'SAML:aud': 'https://signin.aws.amazon.com/saml'}}}]}, 'Description': '', 'MaxSessionDuration': 3600}, {'Path': '/', 'RoleName': 'AWS_SelfManaged_POD_Admin', 'RoleId': 'AROAZOTIFNFLF52AHUERZ', 'Arn': 'arn:aws:iam::649832261974:role/AWS_SelfManaged_POD_Admin', 'CreateDate': datetime.datetime(2020, 3, 27, 20, 20, 57, tzinfo=tzlocal()), 'AssumeRolePolicyDocument': {'Version': '2012-10-17', 'Statement': [{'Effect': 'Allow', 'Principal': {'Federated': 'arn:aws:iam::649832261974:saml-provider/Centrify'}, 'Action': 'sts:AssumeRoleWithSAML', 'Condition': {'StringEquals': {'SAML:aud': 'https://signin.aws.amazon.com/saml'}}}]}, 'Description': '', 'MaxSessionDuration': 3600}, {'Path': '/', 'RoleName': 'AWS_SOCTeam', 'RoleId': 'AROAZOTIFNFLDSRNIXGPM', 'Arn': 'arn:aws:iam::649832261974:role/AWS_SOCTeam', 'CreateDate': datetime.datetime(2020, 3, 27, 20, 20, 57, tzinfo=tzlocal()), 'AssumeRolePolicyDocument': {'Version': '2012-10-17', 'Statement': [{'Effect': 'Allow', 'Principal': {'Federated': 'arn:aws:iam::649832261974:saml-provider/Centrify'}, 'Action': 'sts:AssumeRoleWithSAML', 'Condition': {'StringEquals': {'SAML:aud': 'https://signin.aws.amazon.com/saml'}}}]}, 'Description': '', 'MaxSessionDuration': 3600}, {'Path': '/DCSLayer0/', 'RoleName': 'CF-QualysAWSConnectorRole', 'RoleId': 'AROAZOTIFNFLBA2LT5QM3', 'Arn': 'arn:aws:iam::649832261974:role/DCSLayer0/CF-QualysAWSConnectorRole', 'CreateDate': datetime.datetime(2020, 4, 4, 4, 6, 6, tzinfo=tzlocal()), 'AssumeRolePolicyDocument': {'Version': '2012-10-17', 'Statement': [{'Effect': 'Allow', 'Principal': {'AWS': 'arn:aws:iam::805950163170:root'}, 'Action': 'sts:AssumeRole', 'Condition': {'StringEquals': {'sts:ExternalId': '24584724456'}}}]}, 'Description': '', 'MaxSessionDuration': 3600}, {'Path': '/', 'RoleName': 'CloudabilityRole', 'RoleId': 'AROAZOTIFNFLMHKRTACGA', 'Arn': 'arn:aws:iam::649832261974:role/CloudabilityRole', 'CreateDate': datetime.datetime(2020, 3, 27, 20, 11, 20, tzinfo=tzlocal()), 'AssumeRolePolicyDocument': {'Version': '2012-10-17', 'Statement': [{'Effect': 'Allow', 'Principal': {'AWS': 'arn:aws:iam::165736516723:user/cloudability'}, 'Action': 'sts:AssumeRole', 'Condition': {'StringEquals': {'sts:ExternalId': '6f1d0fd5-b83d-4fbb-8051-f092c85cb313'}}}]}, 'Description': '', 'MaxSessionDuration': 3600}, {'Path': '/', 'RoleName': 'CloudHealthRole', 'RoleId': 'AROAZOTIFNFLAVDIQ43ES', 'Arn': 'arn:aws:iam::649832261974:role/CloudHealthRole', 'CreateDate': datetime.datetime(2020, 3, 27, 20, 23, 34, tzinfo=tzlocal()), 'AssumeRolePolicyDocument': {'Version': '2012-10-17', 'Statement': [{'Effect': 'Allow', 'Principal': {'AWS': 'arn:aws:iam::454464851268:root'}, 'Action': 'sts:AssumeRole', 'Condition': {'StringEquals': {'sts:ExternalId': '987e3493d3a5d0a067dd989b93db6a'}}}]}, 'Description': '', 'MaxSessionDuration': 3600}, {'Path': '/', 'RoleName': 'CloudML_SSMRole', 'RoleId': 'AROAZOTIFNFLAH4BACY7W', 'Arn': 'arn:aws:iam::649832261974:role/CloudML_SSMRole', 'CreateDate': datetime.datetime(2020, 4, 13, 6, 58, 48, tzinfo=tzlocal()), 'AssumeRolePolicyDocument': {'Version': '2012-10-17', 'Statement': [{'Effect': 'Allow', 'Principal': {'Service': 'ec2.amazonaws.com'}, 'Action': 'sts:AssumeRole'}]}, 'Description': 'Allows EC2 instances to call AWS services on your behalf.', 'MaxSessionDuration': 3600}, {'Path': '/', 'RoleName': 'cmcuxd-sbx-Automation-LambdaExecutionRoleforLogging', 'RoleId': 'AROAZOTIFNFLNJ2NS7IQJ', 'Arn': 'arn:aws:iam::649832261974:role/cmcuxd-sbx-Automation-LambdaExecutionRoleforLogging', 'CreateDate': datetime.datetime(2020, 3, 27, 20, 30, 11, tzinfo=tzlocal()), 'AssumeRolePolicyDocument': {'Version': '2012-10-17', 'Statement': [{'Effect': 'Allow', 'Principal': {'Service': 'lambda.amazonaws.com'}, 'Action': 'sts:AssumeRole'}]}, 'Description': '', 'MaxSessionDuration': 3600}, {'Path': '/', 'RoleName': 'cmcuxd-sbx-centralizedlogsEncryptLambdaExec', 'RoleId': 'AROAZOTIFNFLDMDMXVTC7', 'Arn': 'arn:aws:iam::649832261974:role/cmcuxd-sbx-centralizedlogsEncryptLambdaExec', 'CreateDate': datetime.datetime(2020, 3, 27, 20, 30, 10, tzinfo=tzlocal()), 'AssumeRolePolicyDocument': {'Version': '2012-10-17', 'Statement': [{'Effect': 'Allow', 'Principal': {'Service': 'lambda.amazonaws.com'}, 'Action': 'sts:AssumeRole'}]}, 'Description': '', 'MaxSessionDuration': 3600}, {'Path': '/', 'RoleName': 'cmcuxd-sbx-S3Role', 'RoleId': 'AROAZOTIFNFLH6YI326J7', 'Arn': 'arn:aws:iam::649832261974:role/cmcuxd-sbx-S3Role', 'CreateDate': datetime.datetime(2020, 3, 27, 20, 30, 11, tzinfo=tzlocal()), 'AssumeRolePolicyDocument': {'Version': '2012-10-17', 'Statement': [{'Effect': 'Allow', 'Principal': {'Service': 's3.amazonaws.com'}, 'Action': 'sts:AssumeRole'}]}, 'Description': '', 'MaxSessionDuration': 3600}, {'Path': '/', 'RoleName': 'cmcuxd-sbx-SystemManagerRole', 'RoleId': 'AROAZOTIFNFLFB6HNRVN6', 'Arn': 'arn:aws:iam::649832261974:role/cmcuxd-sbx-SystemManagerRole', 'CreateDate': datetime.datetime(2020, 3, 27, 20, 30, 11, tzinfo=tzlocal()), 'AssumeRolePolicyDocument': {'Version': '2012-10-17', 'Statement': [{'Effect': 'Allow', 'Principal': {'Service': 'ec2.amazonaws.com'}, 'Action': 'sts:AssumeRole'}]}, 'Description': '', 'MaxSessionDuration': 3600}, {'Path': '/', 'RoleName': 'CMS-AnalyticsRole', 'RoleId': 'AROAZOTIFNFLA5IMU5BST', 'Arn': 'arn:aws:iam::649832261974:role/CMS-AnalyticsRole', 'CreateDate': datetime.datetime(2020, 3, 27, 20, 23, 13, tzinfo=tzlocal()), 'AssumeRolePolicyDocument': {'Version': '2012-10-17', 'Statement': [{'Effect': 'Allow', 'Principal': {'AWS': ['arn:aws:iam::103403959176:root', 'arn:aws:iam::328474364876:root']}, 'Action': 'sts:AssumeRole', 'Condition': {'StringEquals': {'sts:ExternalId': '503694a7-9348-49eb-b965-6c96d7dbb6b8'}}}, {'Effect': 'Allow', 'Principal': {'Service': 'ec2.amazonaws.com'}, 'Action': 'sts:AssumeRole'}, {'Effect': 'Allow', 'Principal': {'Service': 'lambda.amazonaws.com'}, 'Action': 'sts:AssumeRole'}]}, 'Description': '', 'MaxSessionDuration': 3600}, {'Path': '/DCSLayer0/', 'RoleName': 'DCSAwsShieldGovernanceRole', 'RoleId': 'AROAZOTIFNFLJPGLCZPYJ', 'Arn': 'arn:aws:iam::649832261974:role/DCSLayer0/DCSAwsShieldGovernanceRole', 'CreateDate': datetime.datetime(2020, 4, 7, 15, 3, 25, tzinfo=tzlocal()), 'AssumeRolePolicyDocument': {'Version': '2012-10-17', 'Statement': [{'Effect': 'Allow', 'Principal': {'AWS': 'arn:aws:iam::311648320290:role/DCSLayer0/AwsShieldLambdaExecutionRole'}, 'Action': 'sts:AssumeRole'}]}, 'Description': '', 'MaxSessionDuration': 3600}, {'Path': '/DCSLayer0/', 'RoleName': 'DCSGovernance', 'RoleId': 'AROAZOTIFNFLOJPQGC3RI', 'Arn': 'arn:aws:iam::649832261974:role/DCSLayer0/DCSGovernance', 'CreateDate': datetime.datetime(2020, 3, 27, 20, 11, 20, tzinfo=tzlocal()), 'AssumeRolePolicyDocument': {'Version': '2012-10-17', 'Statement': [{'Effect': 'Allow', 'Principal': {'AWS': ['arn:aws:iam::311648320290:role/nova-account-prod-us-west-2-lambdaRole', 'arn:aws:iam::311648320290:role/GovernanceLambdaExecutionRole-V2', 'arn:aws:iam::210240447631:role/GovernanceLambdaExecutionRole-V2']}, 'Action': 'sts:AssumeRole'}]}, 'Description': '', 'MaxSessionDuration': 3600}, {'Path': '/DCSLayer0/', 'RoleName': 'DCSManageVPCRole', 'RoleId': 'AROAZOTIFNFLFF5WCHPC5', 'Arn': 'arn:aws:iam::649832261974:role/DCSLayer0/DCSManageVPCRole', 'CreateDate': datetime.datetime(2020, 3, 27, 20, 11, 20, tzinfo=tzlocal()), 'AssumeRolePolicyDocument': {'Version': '2012-10-17', 'Statement': [{'Effect': 'Allow', 'Principal': {'AWS': ['arn:aws:iam::210240447631:role/VPC-Automation-VPCLambdaExecutionRole', 'arn:aws:iam::210240447631:role/VPC-Automation-V2-VPCLambdaExecutionRole']}, 'Action': 'sts:AssumeRole'}]}, 'Description': '', 'MaxSessionDuration': 3600}, {'Path': '/DCSLayer0/', 'RoleName': 'DCSRegionalSecurityAccessRole', 'RoleId': 'AROAZOTIFNFLOUVD22TND', 'Arn': 'arn:aws:iam::649832261974:role/DCSLayer0/DCSRegionalSecurityAccessRole', 'CreateDate': datetime.datetime(2020, 3, 27, 20, 11, 20, tzinfo=tzlocal()), 'AssumeRolePolicyDocument': {'Version': '2012-10-17', 'Statement': [{'Effect': 'Allow', 'Principal': {'AWS': ['arn:aws:iam::311648320290:role/DCSLayer0/gDutyLambdaExecutionRole', 'arn:aws:iam::311648320290:role/DCSLayer0/sHubLambdaExecutionRole', 'arn:aws:iam::311648320290:role/DCSLayer0/sHubrLockLambdaExecutionRole']}, 'Action': 'sts:AssumeRole'}]}, 'Description': '', 'MaxSessionDuration': 3600}, {'Path': '/', 'RoleName': 'DeloitteOrganizationRole', 'RoleId': 'AROAZOTIFNFLMJBP7MMGI', 'Arn': 'arn:aws:iam::649832261974:role/DeloitteOrganizationRole', 'CreateDate': datetime.datetime(2020, 3, 27, 19, 57, 21, tzinfo=tzlocal()), 'AssumeRolePolicyDocument': {'Version': '2012-10-17', 'Statement': [{'Effect': 'Allow', 'Principal': {'AWS': 'arn:aws:iam::202164440126:root'}, 'Action': 'sts:AssumeRole'}]}, 'MaxSessionDuration': 3600}, {'Path': '/', 'RoleName': 'EKS_portability', 'RoleId': 'AROAZOTIFNFLATIYV776N', 'Arn': 'arn:aws:iam::649832261974:role/EKS_portability', 'CreateDate': datetime.datetime(2020, 4, 3, 14, 22, 8, tzinfo=tzlocal()), 'AssumeRolePolicyDocument': {'Version': '2012-10-17', 'Statement': [{'Effect': 'Allow', 'Principal': {'Service': 'eks.amazonaws.com'}, 'Action': 'sts:AssumeRole'}]}, 'Description': 'Allows EKS to manage clusters on your behalf.', 'MaxSessionDuration': 3600}, {'Path': '/', 'RoleName': 'FlowLogsRole', 'RoleId': 'AROAZOTIFNFLLKMQEDDKU', 'Arn': 'arn:aws:iam::649832261974:role/FlowLogsRole', 'CreateDate': datetime.datetime(2020, 3, 27, 20, 20, 57, tzinfo=tzlocal()), 'AssumeRolePolicyDocument': {'Version': '2012-10-17', 'Statement': [{'Effect': 'Allow', 'Principal': {'Service': 'vpc-flow-logs.amazonaws.com'}, 'Action': 'sts:AssumeRole'}]}, 'Description': '', 'MaxSessionDuration': 3600}, {'Path': '/DCSLayer0/', 'RoleName': 'GlobalConfigRecorderRole', 'RoleId': 'AROAZOTIFNFLL3BF6J73A', 'Arn': 'arn:aws:iam::649832261974:role/DCSLayer0/GlobalConfigRecorderRole', 'CreateDate': datetime.datetime(2020, 3, 27, 20, 11, 18, tzinfo=tzlocal()), 'AssumeRolePolicyDocument': {'Version': '2012-10-17', 'Statement': [{'Sid': 'assumeRoleforConfig', 'Effect': 'Allow', 'Principal': {'Service': 'config.amazonaws.com'}, 'Action': 'sts:AssumeRole'}]}, 'Description': '', 'MaxSessionDuration': 3600}, {'Path': '/', 'RoleName': 'iam-stack-CloudML-InternalTrainingc-VpcFlowLogRole-JVUUQ2GLPV67', 'RoleId': 'AROAZOTIFNFLB6HZBHURZ', 'Arn': 'arn:aws:iam::649832261974:role/iam-stack-CloudML-InternalTrainingc-VpcFlowLogRole-JVUUQ2GLPV67', 'CreateDate': datetime.datetime(2020, 3, 27, 20, 35, 10, tzinfo=tzlocal()), 'AssumeRolePolicyDocument': {'Version': '2012-10-17', 'Statement': [{'Effect': 'Allow', 'Principal': {'Service': 'vpc-flow-logs.amazonaws.com'}, 'Action': 'sts:AssumeRole'}]}, 'Description': '', 'MaxSessionDuration': 3600}, {'Path': '/DCSLayer0/', 'RoleName': 'Layer0_Audit', 'RoleId': 'AROAZOTIFNFLHMA7OD4LO', 'Arn': 'arn:aws:iam::649832261974:role/DCSLayer0/Layer0_Audit', 'CreateDate': datetime.datetime(2020, 3, 27, 20, 11, 19, tzinfo=tzlocal()), 'AssumeRolePolicyDocument': {'Version': '2012-10-17', 'Statement': [{'Effect': 'Allow', 'Principal': {'AWS': 'arn:aws:iam::311648320290:root'}, 'Action': 'sts:AssumeRole'}]}, 'Description': '', 'MaxSessionDuration': 3600}, {'Path': '/', 'RoleName': 'OC-cmcuxd-sbx-IAMRoles-s3Buckets-logging-CRRKMS-7LKR6HAP5CIG', 'RoleId': 'AROAZOTIFNFLPSBLH6RA3', 'Arn': 'arn:aws:iam::649832261974:role/OC-cmcuxd-sbx-IAMRoles-s3Buckets-logging-CRRKMS-7LKR6HAP5CIG', 'CreateDate': datetime.datetime(2020, 3, 27, 20, 30, 54, tzinfo=tzlocal()), 'AssumeRolePolicyDocument': {'Version': '2012-10-17', 'Statement': [{'Effect': 'Allow', 'Principal': {'Service': 's3.amazonaws.com'}, 'Action': 'sts:AssumeRole'}]}, 'Description': '', 'MaxSessionDuration': 3600}, {'Path': '/', 'RoleName': 'OC-cmcuxd-sbx-LC-Lambda-Role', 'RoleId': 'AROAZOTIFNFLBCWPNU5XE', 'Arn': 'arn:aws:iam::649832261974:role/OC-cmcuxd-sbx-LC-Lambda-Role', 'CreateDate': datetime.datetime(2020, 3, 27, 20, 25, 16, tzinfo=tzlocal()), 'AssumeRolePolicyDocument': {'Version': '2012-10-17', 'Statement': [{'Effect': 'Allow', 'Principal': {'Service': 'lambda.amazonaws.com'}, 'Action': 'sts:AssumeRole'}]}, 'Description': '', 'MaxSessionDuration': 3600}, {'Path': '/', 'RoleName': 'OC-Layer-1-Automation-EventBusRole', 'RoleId': 'AROAZOTIFNFLFVKDRXNOH', 'Arn': 'arn:aws:iam::649832261974:role/OC-Layer-1-Automation-EventBusRole', 'CreateDate': datetime.datetime(2020, 3, 27, 20, 17, 45, tzinfo=tzlocal()), 'AssumeRolePolicyDocument': {'Version': '2012-10-17', 'Statement': [{'Effect': 'Allow', 'Principal': {'Service': 'events.amazonaws.com'}, 'Action': 'sts:AssumeRole'}]}, 'Description': '', 'MaxSessionDuration': 3600}, {'Path': '/', 'RoleName': 'OC-Layer-1-AutomationRole', 'RoleId': 'AROAZOTIFNFLHKVJ6GPYM', 'Arn': 'arn:aws:iam::649832261974:role/OC-Layer-1-AutomationRole', 'CreateDate': datetime.datetime(2020, 3, 27, 20, 18, 1, tzinfo=tzlocal()), 'AssumeRolePolicyDocument': {'Version': '2012-10-17', 'Statement': [{'Effect': 'Allow', 'Principal': {'AWS': 'arn:aws:iam::103403959176:root'}, 'Action': 'sts:AssumeRole', 'Condition': {'StringEquals': {'sts:ExternalId': 'cd8279c5-642c-5ff6-867f-d79ae51341ba'}}}, {'Effect': 'Allow', 'Principal': {'AWS': 'arn:aws:iam::115246063806:root'}, 'Action': 'sts:AssumeRole', 'Condition': {}}, {'Effect': 'Allow', 'Principal': {'Service': 'ec2.amazonaws.com'}, 'Action': 'sts:AssumeRole'}, {'Effect': 'Allow', 'Principal': {'Service': 'lambda.amazonaws.com'}, 'Action': 'sts:AssumeRole'}]}, 'Description': '', 'MaxSessionDuration': 43200}, {'Path': '/', 'RoleName': 'OpenCloud-RedLockRole', 'RoleId': 'AROAZOTIFNFLPAM3OP3QS', 'Arn': 'arn:aws:iam::649832261974:role/OpenCloud-RedLockRole', 'CreateDate': datetime.datetime(2020, 3, 27, 21, 5, 16, tzinfo=tzlocal()), 'AssumeRolePolicyDocument': {'Version': '2012-10-17', 'Statement': [{'Effect': 'Allow', 'Principal': {'AWS': 'arn:aws:iam::188619942792:root'}, 'Action': 'sts:AssumeRole', 'Condition': {'StringEquals': {'sts:ExternalId': 'MDdhM2EyMmUx'}}}]}, 'Description': '', 'MaxSessionDuration': 3600}, {'Path': '/', 'RoleName': 'opencloud-vpcflowlog-role', 'RoleId': 'AROAZOTIFNFLATNA672JF', 'Arn': 'arn:aws:iam::649832261974:role/opencloud-vpcflowlog-role', 'CreateDate': datetime.datetime(2020, 3, 27, 20, 34, 36, tzinfo=tzlocal()), 'AssumeRolePolicyDocument': {'Version': '2012-10-17', 'Statement': [{'Effect': 'Allow', 'Principal': {'Service': 'vpc-flow-logs.amazonaws.com'}, 'Action': 'sts:AssumeRole'}]}, 'Description': '', 'MaxSessionDuration': 3600}, {'Path': '/DCSLayer0/', 'RoleName': 'OpenCloudFullIamRole', 'RoleId': 'AROAZOTIFNFLHUNL2WJJ2', 'Arn': 'arn:aws:iam::649832261974:role/DCSLayer0/OpenCloudFullIamRole', 'CreateDate': datetime.datetime(2020, 3, 27, 20, 11, 20, tzinfo=tzlocal()), 'AssumeRolePolicyDocument': {'Version': '2012-10-17', 'Statement': [{'Effect': 'Allow', 'Principal': {'AWS': 'arn:aws:iam::103403959176:root'}, 'Action': 'sts:AssumeRole'}]}, 'Description': '', 'MaxSessionDuration': 3600}, {'Path': '/', 'RoleName': 'OrganizationAccountAccessRole', 'RoleId': 'AROAZOTIFNFLI76JIPW7J', 'Arn': 'arn:aws:iam::649832261974:role/OrganizationAccountAccessRole', 'CreateDate': datetime.datetime(2020, 3, 27, 20, 11, 19, tzinfo=tzlocal()), 'AssumeRolePolicyDocument': {'Version': '2012-10-17', 'Statement': [{'Effect': 'Allow', 'Principal': {'AWS': 'arn:aws:iam::202164440126:root'}, 'Action': 'sts:AssumeRole'}]}, 'Description': '', 'MaxSessionDuration': 3600}, {'Path': '/DCSLayer0/', 'RoleName': 'QualysManagementRole', 'RoleId': 'AROAZOTIFNFLPKGDJB5EO', 'Arn': 'arn:aws:iam::649832261974:role/DCSLayer0/QualysManagementRole', 'CreateDate': datetime.datetime(2020, 4, 4, 7, 39, 50, tzinfo=tzlocal()), 'AssumeRolePolicyDocument': {'Version': '2012-10-17', 'Statement': [{'Effect': 'Allow', 'Principal': {'AWS': 'arn:aws:iam::311648320290:root'}, 'Action': 'sts:AssumeRole', 'Condition': {}}]}, 'Description': 'Role for Qualys Tool to manage the Onboard process', 'MaxSessionDuration': 3600}, {'Path': '/', 'RoleName': 'RedLockReadOnly', 'RoleId': 'AROAZOTIFNFLCGG2GDPHJ', 'Arn': 'arn:aws:iam::649832261974:role/RedLockReadOnly', 'CreateDate': datetime.datetime(2020, 3, 27, 20, 20, 57, tzinfo=tzlocal()), 'AssumeRolePolicyDocument': {'Version': '2012-10-17', 'Statement': [{'Effect': 'Allow', 'Principal': {'AWS': 'arn:aws:iam::188619942792:root'}, 'Action': 'sts:AssumeRole', 'Condition': {'StringEquals': {'sts:ExternalId': '5f44agqt4c95'}}}]}, 'Description': '', 'MaxSessionDuration': 3600}, {'Path': '/', 'RoleName': 'snowball-import-export-s3-role', 'RoleId': 'AROAZOTIFNFLFKN7BIMDD', 'Arn': 'arn:aws:iam::649832261974:role/snowball-import-export-s3-role', 'CreateDate': datetime.datetime(2020, 4, 6, 11, 52, 11, tzinfo=tzlocal()), 'AssumeRolePolicyDocument': {'Version': '2012-10-17', 'Statement': [{'Effect': 'Allow', 'Principal': {'Service': 'importexport.amazonaws.com'}, 'Action': 'sts:AssumeRole'}]}, 'MaxSessionDuration': 3600}, {'Path': '/', 'RoleName': 'snowball-import-export-s3-role3', 'RoleId': 'AROAZOTIFNFLLSBQBSUXJ', 'Arn': 'arn:aws:iam::649832261974:role/snowball-import-export-s3-role3', 'CreateDate': datetime.datetime(2020, 4, 11, 13, 51, 33, tzinfo=tzlocal()), 'AssumeRolePolicyDocument': {'Version': '2012-10-17', 'Statement': [{'Effect': 'Allow', 'Principal': {'Service': 'importexport.amazonaws.com'}, 'Action': 'sts:AssumeRole'}]}, 'MaxSessionDuration': 3600}, {'Path': '/', 'RoleName': 'TenableRole', 'RoleId': 'AROAZOTIFNFLMEH2A3GYQ', 'Arn': 'arn:aws:iam::649832261974:role/TenableRole', 'CreateDate': datetime.datetime(2020, 3, 27, 20, 22, 49, tzinfo=tzlocal()), 'AssumeRolePolicyDocument': {'Version': '2012-10-17', 'Statement': [{'Effect': 'Allow', 'Principal': {'AWS': 'arn:aws:iam::012615275169:root'}, 'Action': 'sts:AssumeRole', 'Condition': {'StringEquals': {'sts:ExternalId': '09d5cee2-1311-49a5-9c73-689b0484d734'}}}]}, 'Description': '', 'MaxSessionDuration': 3600}, {'Path': '/', 'RoleName': 'TrendMicroRole', 'RoleId': 'AROAZOTIFNFLLGDYMIL4P', 'Arn': 'arn:aws:iam::649832261974:role/TrendMicroRole', 'CreateDate': datetime.datetime(2020, 3, 27, 20, 21, 49, tzinfo=tzlocal()), 'AssumeRolePolicyDocument': {'Version': '2012-10-17', 'Statement': [{'Effect': 'Allow', 'Principal': {'AWS': 'arn:aws:iam::147995105371:root'}, 'Action': 'sts:AssumeRole', 'Condition': {'StringEquals': {'sts:ExternalId': '503694a7-9348-49eb-b965-6c96d7dbb6b8'}}}]}, 'Description': '', 'MaxSessionDuration': 3600}, {'Path': '/', 'RoleName': 'trend_micro_cross_account_role', 'RoleId': 'AROAZOTIFNFLH4TTEXNQA', 'Arn': 'arn:aws:iam::649832261974:role/trend_micro_cross_account_role', 'CreateDate': datetime.datetime(2020, 3, 27, 20, 20, 57, tzinfo=tzlocal()), 'AssumeRolePolicyDocument': {'Version': '2012-10-17', 'Statement': [{'Effect': 'Allow', 'Principal': {'AWS': 'arn:aws:iam::103403959176:root'}, 'Action': 'sts:AssumeRole', 'Condition': {'StringEquals': {'sts:ExternalId': '@qvX=TG+7R-U'}}}]}, 'Description': '', 'MaxSessionDuration': 3600}, {'Path': '/', 'RoleName': 'vpc-peering-CloudML-InternalTr-LambdaExecutionRole-16KY7XRG9BONW', 'RoleId': 'AROAZOTIFNFLHDFONLC3D', 'Arn': 'arn:aws:iam::649832261974:role/vpc-peering-CloudML-InternalTr-LambdaExecutionRole-16KY7XRG9BONW', 'CreateDate': datetime.datetime(2020, 3, 27, 20, 42, 27, tzinfo=tzlocal()), 'AssumeRolePolicyDocument': {'Version': '2012-10-17', 'Statement': [{'Effect': 'Allow', 'Principal': {'Service': 'lambda.amazonaws.com'}, 'Action': 'sts:AssumeRole'}]}, 'Description': '', 'MaxSessionDuration': 3600}], 'IsTruncated': False, 'ResponseMetadata': {'RequestId': '706c3d32-d394-4da1-8869-0726b4018c9d', 'HTTPStatusCode': 200, 'HTTPHeaders': {'x-amzn-requestid': '706c3d32-d394-4da1-8869-0726b4018c9d', 'content-type': 'text/xml', 'content-length': '43179', 'vary': 'accept-encoding', 'date': 'Tue, 14 Apr 2020 07:35:40 GMT'}, 'RetryAttempts': 0}}\n"
     ]
    }
   ],
   "source": [
    "#list all roles in your aws account\n",
    "rl_response=iam_cons.list_roles()\n",
    "print(rl_response)"
   ]
  },
  {
   "cell_type": "code",
   "execution_count": null,
   "metadata": {},
   "outputs": [],
   "source": []
  },
  {
   "cell_type": "code",
   "execution_count": 99,
   "metadata": {},
   "outputs": [
    {
     "name": "stdout",
     "output_type": "stream",
     "text": [
      "{'Roles': [{'Path': '/service-role/', 'RoleName': 'AmazonSageMaker-ExecutionRole-20200402T191879', 'RoleId': 'AROAZOTIFNFLHMDJXWUW2', 'Arn': 'arn:aws:iam::649832261974:role/service-role/AmazonSageMaker-ExecutionRole-20200402T191879', 'CreateDate': datetime.datetime(2020, 4, 2, 13, 48, 19, tzinfo=tzlocal()), 'AssumeRolePolicyDocument': {'Version': '2012-10-17', 'Statement': [{'Effect': 'Allow', 'Principal': {'Service': 'sagemaker.amazonaws.com'}, 'Action': 'sts:AssumeRole'}]}, 'Description': 'SageMaker execution role created from the SageMaker AWS Management Console.', 'MaxSessionDuration': 3600}, {'Path': '/service-role/', 'RoleName': 'AmazonSageMaker-ExecutionRole-20200403T110985', 'RoleId': 'AROAZOTIFNFLJD7OGM26V', 'Arn': 'arn:aws:iam::649832261974:role/service-role/AmazonSageMaker-ExecutionRole-20200403T110985', 'CreateDate': datetime.datetime(2020, 4, 3, 5, 39, 38, tzinfo=tzlocal()), 'AssumeRolePolicyDocument': {'Version': '2012-10-17', 'Statement': [{'Effect': 'Allow', 'Principal': {'Service': 'sagemaker.amazonaws.com'}, 'Action': 'sts:AssumeRole'}]}, 'Description': 'SageMaker execution role created from the SageMaker AWS Management Console.', 'MaxSessionDuration': 3600}, {'Path': '/service-role/', 'RoleName': 'AmazonSageMaker-ExecutionRole-20200407T143126', 'RoleId': 'AROAZOTIFNFLGZQO22YZD', 'Arn': 'arn:aws:iam::649832261974:role/service-role/AmazonSageMaker-ExecutionRole-20200407T143126', 'CreateDate': datetime.datetime(2020, 4, 7, 9, 1, 47, tzinfo=tzlocal()), 'AssumeRolePolicyDocument': {'Version': '2012-10-17', 'Statement': [{'Effect': 'Allow', 'Principal': {'Service': 'sagemaker.amazonaws.com'}, 'Action': 'sts:AssumeRole'}]}, 'Description': 'SageMaker execution role created from the SageMaker AWS Management Console.', 'MaxSessionDuration': 3600}, {'Path': '/', 'RoleName': 'AWSCloudFormationStackSetExecutionRole', 'RoleId': 'AROAZOTIFNFLAOMZN2DNT', 'Arn': 'arn:aws:iam::649832261974:role/AWSCloudFormationStackSetExecutionRole', 'CreateDate': datetime.datetime(2020, 3, 27, 19, 57, 56, tzinfo=tzlocal()), 'AssumeRolePolicyDocument': {'Version': '2012-10-17', 'Statement': [{'Effect': 'Allow', 'Principal': {'AWS': ['arn:aws:iam::311648320290:role/GovernanceLambdaExecutionRole', 'arn:aws:iam::311648320290:role/AWSCloudFormationStackSetAdministrationRole', 'arn:aws:iam::311648320290:role/GovernanceLambdaExecutionRole-V2']}, 'Action': 'sts:AssumeRole'}]}, 'MaxSessionDuration': 3600}, {'Path': '/aws-service-role/eks-nodegroup.amazonaws.com/', 'RoleName': 'AWSServiceRoleForAmazonEKSNodegroup', 'RoleId': 'AROAZOTIFNFLPC2C4SWUV', 'Arn': 'arn:aws:iam::649832261974:role/aws-service-role/eks-nodegroup.amazonaws.com/AWSServiceRoleForAmazonEKSNodegroup', 'CreateDate': datetime.datetime(2020, 4, 3, 14, 18, 53, tzinfo=tzlocal()), 'AssumeRolePolicyDocument': {'Version': '2012-10-17', 'Statement': [{'Effect': 'Allow', 'Principal': {'Service': 'eks-nodegroup.amazonaws.com'}, 'Action': 'sts:AssumeRole'}]}, 'Description': 'Allow EKS to manage nodegroups on your behalf.', 'MaxSessionDuration': 3600}, {'Path': '/aws-service-role/guardduty.amazonaws.com/', 'RoleName': 'AWSServiceRoleForAmazonGuardDuty', 'RoleId': 'AROAZOTIFNFLKUVAXM3FP', 'Arn': 'arn:aws:iam::649832261974:role/aws-service-role/guardduty.amazonaws.com/AWSServiceRoleForAmazonGuardDuty', 'CreateDate': datetime.datetime(2020, 3, 27, 20, 21, 30, tzinfo=tzlocal()), 'AssumeRolePolicyDocument': {'Version': '2012-10-17', 'Statement': [{'Effect': 'Allow', 'Principal': {'Service': 'guardduty.amazonaws.com'}, 'Action': 'sts:AssumeRole'}]}, 'Description': 'A service-linked role required for Amazon GuardDuty to access your resources. ', 'MaxSessionDuration': 3600}, {'Path': '/aws-service-role/cloud9.amazonaws.com/', 'RoleName': 'AWSServiceRoleForAWSCloud9', 'RoleId': 'AROAZOTIFNFLB2ZB6SB6V', 'Arn': 'arn:aws:iam::649832261974:role/aws-service-role/cloud9.amazonaws.com/AWSServiceRoleForAWSCloud9', 'CreateDate': datetime.datetime(2020, 4, 7, 14, 20, 48, tzinfo=tzlocal()), 'AssumeRolePolicyDocument': {'Version': '2012-10-17', 'Statement': [{'Effect': 'Allow', 'Principal': {'Service': 'cloud9.amazonaws.com'}, 'Action': 'sts:AssumeRole'}]}, 'Description': 'Service linked role for AWS Cloud9', 'MaxSessionDuration': 3600}, {'Path': '/aws-service-role/ecs.amazonaws.com/', 'RoleName': 'AWSServiceRoleForECS', 'RoleId': 'AROAZOTIFNFLLVXAMOTA2', 'Arn': 'arn:aws:iam::649832261974:role/aws-service-role/ecs.amazonaws.com/AWSServiceRoleForECS', 'CreateDate': datetime.datetime(2020, 4, 3, 14, 24, 42, tzinfo=tzlocal()), 'AssumeRolePolicyDocument': {'Version': '2012-10-17', 'Statement': [{'Effect': 'Allow', 'Principal': {'Service': 'ecs.amazonaws.com'}, 'Action': 'sts:AssumeRole'}]}, 'Description': 'Role to enable Amazon ECS to manage your cluster.', 'MaxSessionDuration': 3600}, {'Path': '/aws-service-role/fms.amazonaws.com/', 'RoleName': 'AWSServiceRoleForFMS', 'RoleId': 'AROAZOTIFNFLOFQNAY3GO', 'Arn': 'arn:aws:iam::649832261974:role/aws-service-role/fms.amazonaws.com/AWSServiceRoleForFMS', 'CreateDate': datetime.datetime(2020, 3, 27, 19, 57, 44, tzinfo=tzlocal()), 'AssumeRolePolicyDocument': {'Version': '2012-10-17', 'Statement': [{'Effect': 'Allow', 'Principal': {'Service': 'fms.amazonaws.com'}, 'Action': 'sts:AssumeRole'}]}, 'MaxSessionDuration': 3600}, {'Path': '/aws-service-role/organizations.amazonaws.com/', 'RoleName': 'AWSServiceRoleForOrganizations', 'RoleId': 'AROAZOTIFNFLAORLA2TJZ', 'Arn': 'arn:aws:iam::649832261974:role/aws-service-role/organizations.amazonaws.com/AWSServiceRoleForOrganizations', 'CreateDate': datetime.datetime(2020, 3, 27, 19, 57, 22, tzinfo=tzlocal()), 'AssumeRolePolicyDocument': {'Version': '2012-10-17', 'Statement': [{'Effect': 'Allow', 'Principal': {'Service': 'organizations.amazonaws.com'}, 'Action': 'sts:AssumeRole'}]}, 'Description': 'Service-linked role used by AWS Organizations to enable integration of other AWS services with Organizations.', 'MaxSessionDuration': 3600}, {'Path': '/aws-service-role/securityhub.amazonaws.com/', 'RoleName': 'AWSServiceRoleForSecurityHub', 'RoleId': 'AROAZOTIFNFLIBYONKZC7', 'Arn': 'arn:aws:iam::649832261974:role/aws-service-role/securityhub.amazonaws.com/AWSServiceRoleForSecurityHub', 'CreateDate': datetime.datetime(2020, 3, 27, 20, 14, 19, tzinfo=tzlocal()), 'AssumeRolePolicyDocument': {'Version': '2012-10-17', 'Statement': [{'Effect': 'Allow', 'Principal': {'Service': 'securityhub.amazonaws.com'}, 'Action': 'sts:AssumeRole'}]}, 'Description': 'A service-linked role required for AWS Security Hub to access your resources.', 'MaxSessionDuration': 3600}, {'Path': '/aws-service-role/support.amazonaws.com/', 'RoleName': 'AWSServiceRoleForSupport', 'RoleId': 'AROAZOTIFNFLA2VPT6BIL', 'Arn': 'arn:aws:iam::649832261974:role/aws-service-role/support.amazonaws.com/AWSServiceRoleForSupport', 'CreateDate': datetime.datetime(2020, 3, 27, 19, 57, 21, tzinfo=tzlocal()), 'AssumeRolePolicyDocument': {'Version': '2012-10-17', 'Statement': [{'Effect': 'Allow', 'Principal': {'Service': 'support.amazonaws.com'}, 'Action': 'sts:AssumeRole'}]}, 'Description': 'Enables resource access for AWS to provide billing, administrative and support services', 'MaxSessionDuration': 3600}, {'Path': '/aws-service-role/trustedadvisor.amazonaws.com/', 'RoleName': 'AWSServiceRoleForTrustedAdvisor', 'RoleId': 'AROAZOTIFNFLFHGMLARRU', 'Arn': 'arn:aws:iam::649832261974:role/aws-service-role/trustedadvisor.amazonaws.com/AWSServiceRoleForTrustedAdvisor', 'CreateDate': datetime.datetime(2020, 3, 27, 19, 57, 21, tzinfo=tzlocal()), 'AssumeRolePolicyDocument': {'Version': '2012-10-17', 'Statement': [{'Effect': 'Allow', 'Principal': {'Service': 'trustedadvisor.amazonaws.com'}, 'Action': 'sts:AssumeRole'}]}, 'Description': 'Access for the AWS Trusted Advisor Service to help reduce cost, increase performance, and improve security of your AWS environment.', 'MaxSessionDuration': 3600}, {'Path': '/', 'RoleName': 'AWS_Audit', 'RoleId': 'AROAZOTIFNFLLS5BYJ45B', 'Arn': 'arn:aws:iam::649832261974:role/AWS_Audit', 'CreateDate': datetime.datetime(2020, 3, 27, 20, 20, 57, tzinfo=tzlocal()), 'AssumeRolePolicyDocument': {'Version': '2012-10-17', 'Statement': [{'Effect': 'Allow', 'Principal': {'Federated': 'arn:aws:iam::649832261974:saml-provider/Centrify'}, 'Action': 'sts:AssumeRoleWithSAML', 'Condition': {'StringEquals': {'SAML:aud': 'https://signin.aws.amazon.com/saml'}}}]}, 'Description': '', 'MaxSessionDuration': 3600}, {'Path': '/', 'RoleName': 'AWS_Automation', 'RoleId': 'AROAZOTIFNFLMW33BHSJK', 'Arn': 'arn:aws:iam::649832261974:role/AWS_Automation', 'CreateDate': datetime.datetime(2020, 3, 27, 20, 20, 57, tzinfo=tzlocal()), 'AssumeRolePolicyDocument': {'Version': '2012-10-17', 'Statement': [{'Effect': 'Allow', 'Principal': {'Federated': 'arn:aws:iam::649832261974:saml-provider/Centrify'}, 'Action': 'sts:AssumeRoleWithSAML', 'Condition': {'StringEquals': {'SAML:aud': 'https://signin.aws.amazon.com/saml'}}}]}, 'Description': '', 'MaxSessionDuration': 3600}, {'Path': '/', 'RoleName': 'AWS_CloudML-InternalTraining_Admin', 'RoleId': 'AROAZOTIFNFLO3LJBVSFX', 'Arn': 'arn:aws:iam::649832261974:role/AWS_CloudML-InternalTraining_Admin', 'CreateDate': datetime.datetime(2020, 3, 27, 20, 20, 58, tzinfo=tzlocal()), 'AssumeRolePolicyDocument': {'Version': '2012-10-17', 'Statement': [{'Effect': 'Allow', 'Principal': {'Federated': 'arn:aws:iam::649832261974:saml-provider/Centrify'}, 'Action': 'sts:AssumeRoleWithSAML', 'Condition': {'StringEquals': {'SAML:aud': 'https://signin.aws.amazon.com/saml'}}}]}, 'Description': '', 'MaxSessionDuration': 3600}, {'Path': '/', 'RoleName': 'AWS_EGAdmin', 'RoleId': 'AROAZOTIFNFLNEQY4HB2Q', 'Arn': 'arn:aws:iam::649832261974:role/AWS_EGAdmin', 'CreateDate': datetime.datetime(2020, 3, 27, 20, 20, 57, tzinfo=tzlocal()), 'AssumeRolePolicyDocument': {'Version': '2012-10-17', 'Statement': [{'Effect': 'Allow', 'Principal': {'Federated': 'arn:aws:iam::649832261974:saml-provider/Centrify'}, 'Action': 'sts:AssumeRoleWithSAML', 'Condition': {'StringEquals': {'SAML:aud': 'https://signin.aws.amazon.com/saml'}}}]}, 'Description': '', 'MaxSessionDuration': 3600}, {'Path': '/', 'RoleName': 'AWS_FullAdmin', 'RoleId': 'AROAZOTIFNFLFBCVJT3QP', 'Arn': 'arn:aws:iam::649832261974:role/AWS_FullAdmin', 'CreateDate': datetime.datetime(2020, 3, 27, 20, 20, 57, tzinfo=tzlocal()), 'AssumeRolePolicyDocument': {'Version': '2012-10-17', 'Statement': [{'Effect': 'Allow', 'Principal': {'Federated': 'arn:aws:iam::649832261974:saml-provider/Centrify'}, 'Action': 'sts:AssumeRoleWithSAML', 'Condition': {'StringEquals': {'SAML:aud': 'https://signin.aws.amazon.com/saml'}}}]}, 'Description': '', 'MaxSessionDuration': 3600}, {'Path': '/', 'RoleName': 'AWS_IAM_Admin', 'RoleId': 'AROAZOTIFNFLNISTI2AOS', 'Arn': 'arn:aws:iam::649832261974:role/AWS_IAM_Admin', 'CreateDate': datetime.datetime(2020, 3, 27, 20, 20, 57, tzinfo=tzlocal()), 'AssumeRolePolicyDocument': {'Version': '2012-10-17', 'Statement': [{'Effect': 'Allow', 'Principal': {'Federated': 'arn:aws:iam::649832261974:saml-provider/Centrify'}, 'Action': 'sts:AssumeRoleWithSAML', 'Condition': {'StringEquals': {'SAML:aud': 'https://signin.aws.amazon.com/saml'}}}]}, 'Description': '', 'MaxSessionDuration': 3600}, {'Path': '/', 'RoleName': 'AWS_KMS_Admin', 'RoleId': 'AROAZOTIFNFLAOQVNAGDO', 'Arn': 'arn:aws:iam::649832261974:role/AWS_KMS_Admin', 'CreateDate': datetime.datetime(2020, 3, 27, 20, 20, 57, tzinfo=tzlocal()), 'AssumeRolePolicyDocument': {'Version': '2012-10-17', 'Statement': [{'Effect': 'Allow', 'Principal': {'Federated': 'arn:aws:iam::649832261974:saml-provider/Centrify'}, 'Action': 'sts:AssumeRoleWithSAML', 'Condition': {'StringEquals': {'SAML:aud': 'https://signin.aws.amazon.com/saml'}}}]}, 'Description': '', 'MaxSessionDuration': 3600}, {'Path': '/', 'RoleName': 'AWS_SelfManaged_POD_Admin', 'RoleId': 'AROAZOTIFNFLF52AHUERZ', 'Arn': 'arn:aws:iam::649832261974:role/AWS_SelfManaged_POD_Admin', 'CreateDate': datetime.datetime(2020, 3, 27, 20, 20, 57, tzinfo=tzlocal()), 'AssumeRolePolicyDocument': {'Version': '2012-10-17', 'Statement': [{'Effect': 'Allow', 'Principal': {'Federated': 'arn:aws:iam::649832261974:saml-provider/Centrify'}, 'Action': 'sts:AssumeRoleWithSAML', 'Condition': {'StringEquals': {'SAML:aud': 'https://signin.aws.amazon.com/saml'}}}]}, 'Description': '', 'MaxSessionDuration': 3600}, {'Path': '/', 'RoleName': 'AWS_SOCTeam', 'RoleId': 'AROAZOTIFNFLDSRNIXGPM', 'Arn': 'arn:aws:iam::649832261974:role/AWS_SOCTeam', 'CreateDate': datetime.datetime(2020, 3, 27, 20, 20, 57, tzinfo=tzlocal()), 'AssumeRolePolicyDocument': {'Version': '2012-10-17', 'Statement': [{'Effect': 'Allow', 'Principal': {'Federated': 'arn:aws:iam::649832261974:saml-provider/Centrify'}, 'Action': 'sts:AssumeRoleWithSAML', 'Condition': {'StringEquals': {'SAML:aud': 'https://signin.aws.amazon.com/saml'}}}]}, 'Description': '', 'MaxSessionDuration': 3600}, {'Path': '/DCSLayer0/', 'RoleName': 'CF-QualysAWSConnectorRole', 'RoleId': 'AROAZOTIFNFLBA2LT5QM3', 'Arn': 'arn:aws:iam::649832261974:role/DCSLayer0/CF-QualysAWSConnectorRole', 'CreateDate': datetime.datetime(2020, 4, 4, 4, 6, 6, tzinfo=tzlocal()), 'AssumeRolePolicyDocument': {'Version': '2012-10-17', 'Statement': [{'Effect': 'Allow', 'Principal': {'AWS': 'arn:aws:iam::805950163170:root'}, 'Action': 'sts:AssumeRole', 'Condition': {'StringEquals': {'sts:ExternalId': '24584724456'}}}]}, 'Description': '', 'MaxSessionDuration': 3600}, {'Path': '/', 'RoleName': 'CloudabilityRole', 'RoleId': 'AROAZOTIFNFLMHKRTACGA', 'Arn': 'arn:aws:iam::649832261974:role/CloudabilityRole', 'CreateDate': datetime.datetime(2020, 3, 27, 20, 11, 20, tzinfo=tzlocal()), 'AssumeRolePolicyDocument': {'Version': '2012-10-17', 'Statement': [{'Effect': 'Allow', 'Principal': {'AWS': 'arn:aws:iam::165736516723:user/cloudability'}, 'Action': 'sts:AssumeRole', 'Condition': {'StringEquals': {'sts:ExternalId': '6f1d0fd5-b83d-4fbb-8051-f092c85cb313'}}}]}, 'Description': '', 'MaxSessionDuration': 3600}, {'Path': '/', 'RoleName': 'CloudHealthRole', 'RoleId': 'AROAZOTIFNFLAVDIQ43ES', 'Arn': 'arn:aws:iam::649832261974:role/CloudHealthRole', 'CreateDate': datetime.datetime(2020, 3, 27, 20, 23, 34, tzinfo=tzlocal()), 'AssumeRolePolicyDocument': {'Version': '2012-10-17', 'Statement': [{'Effect': 'Allow', 'Principal': {'AWS': 'arn:aws:iam::454464851268:root'}, 'Action': 'sts:AssumeRole', 'Condition': {'StringEquals': {'sts:ExternalId': '987e3493d3a5d0a067dd989b93db6a'}}}]}, 'Description': '', 'MaxSessionDuration': 3600}, {'Path': '/', 'RoleName': 'CloudML_SSMRole', 'RoleId': 'AROAZOTIFNFLAH4BACY7W', 'Arn': 'arn:aws:iam::649832261974:role/CloudML_SSMRole', 'CreateDate': datetime.datetime(2020, 4, 13, 6, 58, 48, tzinfo=tzlocal()), 'AssumeRolePolicyDocument': {'Version': '2012-10-17', 'Statement': [{'Effect': 'Allow', 'Principal': {'Service': 'ec2.amazonaws.com'}, 'Action': 'sts:AssumeRole'}]}, 'Description': 'Allows EC2 instances to call AWS services on your behalf.', 'MaxSessionDuration': 3600}, {'Path': '/', 'RoleName': 'cmcuxd-sbx-Automation-LambdaExecutionRoleforLogging', 'RoleId': 'AROAZOTIFNFLNJ2NS7IQJ', 'Arn': 'arn:aws:iam::649832261974:role/cmcuxd-sbx-Automation-LambdaExecutionRoleforLogging', 'CreateDate': datetime.datetime(2020, 3, 27, 20, 30, 11, tzinfo=tzlocal()), 'AssumeRolePolicyDocument': {'Version': '2012-10-17', 'Statement': [{'Effect': 'Allow', 'Principal': {'Service': 'lambda.amazonaws.com'}, 'Action': 'sts:AssumeRole'}]}, 'Description': '', 'MaxSessionDuration': 3600}, {'Path': '/', 'RoleName': 'cmcuxd-sbx-centralizedlogsEncryptLambdaExec', 'RoleId': 'AROAZOTIFNFLDMDMXVTC7', 'Arn': 'arn:aws:iam::649832261974:role/cmcuxd-sbx-centralizedlogsEncryptLambdaExec', 'CreateDate': datetime.datetime(2020, 3, 27, 20, 30, 10, tzinfo=tzlocal()), 'AssumeRolePolicyDocument': {'Version': '2012-10-17', 'Statement': [{'Effect': 'Allow', 'Principal': {'Service': 'lambda.amazonaws.com'}, 'Action': 'sts:AssumeRole'}]}, 'Description': '', 'MaxSessionDuration': 3600}, {'Path': '/', 'RoleName': 'cmcuxd-sbx-S3Role', 'RoleId': 'AROAZOTIFNFLH6YI326J7', 'Arn': 'arn:aws:iam::649832261974:role/cmcuxd-sbx-S3Role', 'CreateDate': datetime.datetime(2020, 3, 27, 20, 30, 11, tzinfo=tzlocal()), 'AssumeRolePolicyDocument': {'Version': '2012-10-17', 'Statement': [{'Effect': 'Allow', 'Principal': {'Service': 's3.amazonaws.com'}, 'Action': 'sts:AssumeRole'}]}, 'Description': '', 'MaxSessionDuration': 3600}, {'Path': '/', 'RoleName': 'cmcuxd-sbx-SystemManagerRole', 'RoleId': 'AROAZOTIFNFLFB6HNRVN6', 'Arn': 'arn:aws:iam::649832261974:role/cmcuxd-sbx-SystemManagerRole', 'CreateDate': datetime.datetime(2020, 3, 27, 20, 30, 11, tzinfo=tzlocal()), 'AssumeRolePolicyDocument': {'Version': '2012-10-17', 'Statement': [{'Effect': 'Allow', 'Principal': {'Service': 'ec2.amazonaws.com'}, 'Action': 'sts:AssumeRole'}]}, 'Description': '', 'MaxSessionDuration': 3600}, {'Path': '/', 'RoleName': 'CMS-AnalyticsRole', 'RoleId': 'AROAZOTIFNFLA5IMU5BST', 'Arn': 'arn:aws:iam::649832261974:role/CMS-AnalyticsRole', 'CreateDate': datetime.datetime(2020, 3, 27, 20, 23, 13, tzinfo=tzlocal()), 'AssumeRolePolicyDocument': {'Version': '2012-10-17', 'Statement': [{'Effect': 'Allow', 'Principal': {'AWS': ['arn:aws:iam::103403959176:root', 'arn:aws:iam::328474364876:root']}, 'Action': 'sts:AssumeRole', 'Condition': {'StringEquals': {'sts:ExternalId': '503694a7-9348-49eb-b965-6c96d7dbb6b8'}}}, {'Effect': 'Allow', 'Principal': {'Service': 'ec2.amazonaws.com'}, 'Action': 'sts:AssumeRole'}, {'Effect': 'Allow', 'Principal': {'Service': 'lambda.amazonaws.com'}, 'Action': 'sts:AssumeRole'}]}, 'Description': '', 'MaxSessionDuration': 3600}, {'Path': '/DCSLayer0/', 'RoleName': 'DCSAwsShieldGovernanceRole', 'RoleId': 'AROAZOTIFNFLJPGLCZPYJ', 'Arn': 'arn:aws:iam::649832261974:role/DCSLayer0/DCSAwsShieldGovernanceRole', 'CreateDate': datetime.datetime(2020, 4, 7, 15, 3, 25, tzinfo=tzlocal()), 'AssumeRolePolicyDocument': {'Version': '2012-10-17', 'Statement': [{'Effect': 'Allow', 'Principal': {'AWS': 'arn:aws:iam::311648320290:role/DCSLayer0/AwsShieldLambdaExecutionRole'}, 'Action': 'sts:AssumeRole'}]}, 'Description': '', 'MaxSessionDuration': 3600}, {'Path': '/DCSLayer0/', 'RoleName': 'DCSGovernance', 'RoleId': 'AROAZOTIFNFLOJPQGC3RI', 'Arn': 'arn:aws:iam::649832261974:role/DCSLayer0/DCSGovernance', 'CreateDate': datetime.datetime(2020, 3, 27, 20, 11, 20, tzinfo=tzlocal()), 'AssumeRolePolicyDocument': {'Version': '2012-10-17', 'Statement': [{'Effect': 'Allow', 'Principal': {'AWS': ['arn:aws:iam::311648320290:role/nova-account-prod-us-west-2-lambdaRole', 'arn:aws:iam::311648320290:role/GovernanceLambdaExecutionRole-V2', 'arn:aws:iam::210240447631:role/GovernanceLambdaExecutionRole-V2']}, 'Action': 'sts:AssumeRole'}]}, 'Description': '', 'MaxSessionDuration': 3600}, {'Path': '/DCSLayer0/', 'RoleName': 'DCSManageVPCRole', 'RoleId': 'AROAZOTIFNFLFF5WCHPC5', 'Arn': 'arn:aws:iam::649832261974:role/DCSLayer0/DCSManageVPCRole', 'CreateDate': datetime.datetime(2020, 3, 27, 20, 11, 20, tzinfo=tzlocal()), 'AssumeRolePolicyDocument': {'Version': '2012-10-17', 'Statement': [{'Effect': 'Allow', 'Principal': {'AWS': ['arn:aws:iam::210240447631:role/VPC-Automation-VPCLambdaExecutionRole', 'arn:aws:iam::210240447631:role/VPC-Automation-V2-VPCLambdaExecutionRole']}, 'Action': 'sts:AssumeRole'}]}, 'Description': '', 'MaxSessionDuration': 3600}, {'Path': '/DCSLayer0/', 'RoleName': 'DCSRegionalSecurityAccessRole', 'RoleId': 'AROAZOTIFNFLOUVD22TND', 'Arn': 'arn:aws:iam::649832261974:role/DCSLayer0/DCSRegionalSecurityAccessRole', 'CreateDate': datetime.datetime(2020, 3, 27, 20, 11, 20, tzinfo=tzlocal()), 'AssumeRolePolicyDocument': {'Version': '2012-10-17', 'Statement': [{'Effect': 'Allow', 'Principal': {'AWS': ['arn:aws:iam::311648320290:role/DCSLayer0/gDutyLambdaExecutionRole', 'arn:aws:iam::311648320290:role/DCSLayer0/sHubLambdaExecutionRole', 'arn:aws:iam::311648320290:role/DCSLayer0/sHubrLockLambdaExecutionRole']}, 'Action': 'sts:AssumeRole'}]}, 'Description': '', 'MaxSessionDuration': 3600}, {'Path': '/', 'RoleName': 'DeloitteOrganizationRole', 'RoleId': 'AROAZOTIFNFLMJBP7MMGI', 'Arn': 'arn:aws:iam::649832261974:role/DeloitteOrganizationRole', 'CreateDate': datetime.datetime(2020, 3, 27, 19, 57, 21, tzinfo=tzlocal()), 'AssumeRolePolicyDocument': {'Version': '2012-10-17', 'Statement': [{'Effect': 'Allow', 'Principal': {'AWS': 'arn:aws:iam::202164440126:root'}, 'Action': 'sts:AssumeRole'}]}, 'MaxSessionDuration': 3600}, {'Path': '/', 'RoleName': 'EKS_portability', 'RoleId': 'AROAZOTIFNFLATIYV776N', 'Arn': 'arn:aws:iam::649832261974:role/EKS_portability', 'CreateDate': datetime.datetime(2020, 4, 3, 14, 22, 8, tzinfo=tzlocal()), 'AssumeRolePolicyDocument': {'Version': '2012-10-17', 'Statement': [{'Effect': 'Allow', 'Principal': {'Service': 'eks.amazonaws.com'}, 'Action': 'sts:AssumeRole'}]}, 'Description': 'Allows EKS to manage clusters on your behalf.', 'MaxSessionDuration': 3600}, {'Path': '/', 'RoleName': 'FlowLogsRole', 'RoleId': 'AROAZOTIFNFLLKMQEDDKU', 'Arn': 'arn:aws:iam::649832261974:role/FlowLogsRole', 'CreateDate': datetime.datetime(2020, 3, 27, 20, 20, 57, tzinfo=tzlocal()), 'AssumeRolePolicyDocument': {'Version': '2012-10-17', 'Statement': [{'Effect': 'Allow', 'Principal': {'Service': 'vpc-flow-logs.amazonaws.com'}, 'Action': 'sts:AssumeRole'}]}, 'Description': '', 'MaxSessionDuration': 3600}, {'Path': '/DCSLayer0/', 'RoleName': 'GlobalConfigRecorderRole', 'RoleId': 'AROAZOTIFNFLL3BF6J73A', 'Arn': 'arn:aws:iam::649832261974:role/DCSLayer0/GlobalConfigRecorderRole', 'CreateDate': datetime.datetime(2020, 3, 27, 20, 11, 18, tzinfo=tzlocal()), 'AssumeRolePolicyDocument': {'Version': '2012-10-17', 'Statement': [{'Sid': 'assumeRoleforConfig', 'Effect': 'Allow', 'Principal': {'Service': 'config.amazonaws.com'}, 'Action': 'sts:AssumeRole'}]}, 'Description': '', 'MaxSessionDuration': 3600}, {'Path': '/', 'RoleName': 'iam-stack-CloudML-InternalTrainingc-VpcFlowLogRole-JVUUQ2GLPV67', 'RoleId': 'AROAZOTIFNFLB6HZBHURZ', 'Arn': 'arn:aws:iam::649832261974:role/iam-stack-CloudML-InternalTrainingc-VpcFlowLogRole-JVUUQ2GLPV67', 'CreateDate': datetime.datetime(2020, 3, 27, 20, 35, 10, tzinfo=tzlocal()), 'AssumeRolePolicyDocument': {'Version': '2012-10-17', 'Statement': [{'Effect': 'Allow', 'Principal': {'Service': 'vpc-flow-logs.amazonaws.com'}, 'Action': 'sts:AssumeRole'}]}, 'Description': '', 'MaxSessionDuration': 3600}, {'Path': '/DCSLayer0/', 'RoleName': 'Layer0_Audit', 'RoleId': 'AROAZOTIFNFLHMA7OD4LO', 'Arn': 'arn:aws:iam::649832261974:role/DCSLayer0/Layer0_Audit', 'CreateDate': datetime.datetime(2020, 3, 27, 20, 11, 19, tzinfo=tzlocal()), 'AssumeRolePolicyDocument': {'Version': '2012-10-17', 'Statement': [{'Effect': 'Allow', 'Principal': {'AWS': 'arn:aws:iam::311648320290:root'}, 'Action': 'sts:AssumeRole'}]}, 'Description': '', 'MaxSessionDuration': 3600}, {'Path': '/', 'RoleName': 'OC-cmcuxd-sbx-IAMRoles-s3Buckets-logging-CRRKMS-7LKR6HAP5CIG', 'RoleId': 'AROAZOTIFNFLPSBLH6RA3', 'Arn': 'arn:aws:iam::649832261974:role/OC-cmcuxd-sbx-IAMRoles-s3Buckets-logging-CRRKMS-7LKR6HAP5CIG', 'CreateDate': datetime.datetime(2020, 3, 27, 20, 30, 54, tzinfo=tzlocal()), 'AssumeRolePolicyDocument': {'Version': '2012-10-17', 'Statement': [{'Effect': 'Allow', 'Principal': {'Service': 's3.amazonaws.com'}, 'Action': 'sts:AssumeRole'}]}, 'Description': '', 'MaxSessionDuration': 3600}, {'Path': '/', 'RoleName': 'OC-cmcuxd-sbx-LC-Lambda-Role', 'RoleId': 'AROAZOTIFNFLBCWPNU5XE', 'Arn': 'arn:aws:iam::649832261974:role/OC-cmcuxd-sbx-LC-Lambda-Role', 'CreateDate': datetime.datetime(2020, 3, 27, 20, 25, 16, tzinfo=tzlocal()), 'AssumeRolePolicyDocument': {'Version': '2012-10-17', 'Statement': [{'Effect': 'Allow', 'Principal': {'Service': 'lambda.amazonaws.com'}, 'Action': 'sts:AssumeRole'}]}, 'Description': '', 'MaxSessionDuration': 3600}, {'Path': '/', 'RoleName': 'OC-Layer-1-Automation-EventBusRole', 'RoleId': 'AROAZOTIFNFLFVKDRXNOH', 'Arn': 'arn:aws:iam::649832261974:role/OC-Layer-1-Automation-EventBusRole', 'CreateDate': datetime.datetime(2020, 3, 27, 20, 17, 45, tzinfo=tzlocal()), 'AssumeRolePolicyDocument': {'Version': '2012-10-17', 'Statement': [{'Effect': 'Allow', 'Principal': {'Service': 'events.amazonaws.com'}, 'Action': 'sts:AssumeRole'}]}, 'Description': '', 'MaxSessionDuration': 3600}, {'Path': '/', 'RoleName': 'OC-Layer-1-AutomationRole', 'RoleId': 'AROAZOTIFNFLHKVJ6GPYM', 'Arn': 'arn:aws:iam::649832261974:role/OC-Layer-1-AutomationRole', 'CreateDate': datetime.datetime(2020, 3, 27, 20, 18, 1, tzinfo=tzlocal()), 'AssumeRolePolicyDocument': {'Version': '2012-10-17', 'Statement': [{'Effect': 'Allow', 'Principal': {'AWS': 'arn:aws:iam::103403959176:root'}, 'Action': 'sts:AssumeRole', 'Condition': {'StringEquals': {'sts:ExternalId': 'cd8279c5-642c-5ff6-867f-d79ae51341ba'}}}, {'Effect': 'Allow', 'Principal': {'AWS': 'arn:aws:iam::115246063806:root'}, 'Action': 'sts:AssumeRole', 'Condition': {}}, {'Effect': 'Allow', 'Principal': {'Service': 'ec2.amazonaws.com'}, 'Action': 'sts:AssumeRole'}, {'Effect': 'Allow', 'Principal': {'Service': 'lambda.amazonaws.com'}, 'Action': 'sts:AssumeRole'}]}, 'Description': '', 'MaxSessionDuration': 43200}, {'Path': '/', 'RoleName': 'OpenCloud-RedLockRole', 'RoleId': 'AROAZOTIFNFLPAM3OP3QS', 'Arn': 'arn:aws:iam::649832261974:role/OpenCloud-RedLockRole', 'CreateDate': datetime.datetime(2020, 3, 27, 21, 5, 16, tzinfo=tzlocal()), 'AssumeRolePolicyDocument': {'Version': '2012-10-17', 'Statement': [{'Effect': 'Allow', 'Principal': {'AWS': 'arn:aws:iam::188619942792:root'}, 'Action': 'sts:AssumeRole', 'Condition': {'StringEquals': {'sts:ExternalId': 'MDdhM2EyMmUx'}}}]}, 'Description': '', 'MaxSessionDuration': 3600}, {'Path': '/', 'RoleName': 'opencloud-vpcflowlog-role', 'RoleId': 'AROAZOTIFNFLATNA672JF', 'Arn': 'arn:aws:iam::649832261974:role/opencloud-vpcflowlog-role', 'CreateDate': datetime.datetime(2020, 3, 27, 20, 34, 36, tzinfo=tzlocal()), 'AssumeRolePolicyDocument': {'Version': '2012-10-17', 'Statement': [{'Effect': 'Allow', 'Principal': {'Service': 'vpc-flow-logs.amazonaws.com'}, 'Action': 'sts:AssumeRole'}]}, 'Description': '', 'MaxSessionDuration': 3600}, {'Path': '/DCSLayer0/', 'RoleName': 'OpenCloudFullIamRole', 'RoleId': 'AROAZOTIFNFLHUNL2WJJ2', 'Arn': 'arn:aws:iam::649832261974:role/DCSLayer0/OpenCloudFullIamRole', 'CreateDate': datetime.datetime(2020, 3, 27, 20, 11, 20, tzinfo=tzlocal()), 'AssumeRolePolicyDocument': {'Version': '2012-10-17', 'Statement': [{'Effect': 'Allow', 'Principal': {'AWS': 'arn:aws:iam::103403959176:root'}, 'Action': 'sts:AssumeRole'}]}, 'Description': '', 'MaxSessionDuration': 3600}, {'Path': '/', 'RoleName': 'OrganizationAccountAccessRole', 'RoleId': 'AROAZOTIFNFLI76JIPW7J', 'Arn': 'arn:aws:iam::649832261974:role/OrganizationAccountAccessRole', 'CreateDate': datetime.datetime(2020, 3, 27, 20, 11, 19, tzinfo=tzlocal()), 'AssumeRolePolicyDocument': {'Version': '2012-10-17', 'Statement': [{'Effect': 'Allow', 'Principal': {'AWS': 'arn:aws:iam::202164440126:root'}, 'Action': 'sts:AssumeRole'}]}, 'Description': '', 'MaxSessionDuration': 3600}, {'Path': '/DCSLayer0/', 'RoleName': 'QualysManagementRole', 'RoleId': 'AROAZOTIFNFLPKGDJB5EO', 'Arn': 'arn:aws:iam::649832261974:role/DCSLayer0/QualysManagementRole', 'CreateDate': datetime.datetime(2020, 4, 4, 7, 39, 50, tzinfo=tzlocal()), 'AssumeRolePolicyDocument': {'Version': '2012-10-17', 'Statement': [{'Effect': 'Allow', 'Principal': {'AWS': 'arn:aws:iam::311648320290:root'}, 'Action': 'sts:AssumeRole', 'Condition': {}}]}, 'Description': 'Role for Qualys Tool to manage the Onboard process', 'MaxSessionDuration': 3600}, {'Path': '/', 'RoleName': 'RedLockReadOnly', 'RoleId': 'AROAZOTIFNFLCGG2GDPHJ', 'Arn': 'arn:aws:iam::649832261974:role/RedLockReadOnly', 'CreateDate': datetime.datetime(2020, 3, 27, 20, 20, 57, tzinfo=tzlocal()), 'AssumeRolePolicyDocument': {'Version': '2012-10-17', 'Statement': [{'Effect': 'Allow', 'Principal': {'AWS': 'arn:aws:iam::188619942792:root'}, 'Action': 'sts:AssumeRole', 'Condition': {'StringEquals': {'sts:ExternalId': '5f44agqt4c95'}}}]}, 'Description': '', 'MaxSessionDuration': 3600}, {'Path': '/', 'RoleName': 'snowball-import-export-s3-role', 'RoleId': 'AROAZOTIFNFLFKN7BIMDD', 'Arn': 'arn:aws:iam::649832261974:role/snowball-import-export-s3-role', 'CreateDate': datetime.datetime(2020, 4, 6, 11, 52, 11, tzinfo=tzlocal()), 'AssumeRolePolicyDocument': {'Version': '2012-10-17', 'Statement': [{'Effect': 'Allow', 'Principal': {'Service': 'importexport.amazonaws.com'}, 'Action': 'sts:AssumeRole'}]}, 'MaxSessionDuration': 3600}, {'Path': '/', 'RoleName': 'snowball-import-export-s3-role3', 'RoleId': 'AROAZOTIFNFLLSBQBSUXJ', 'Arn': 'arn:aws:iam::649832261974:role/snowball-import-export-s3-role3', 'CreateDate': datetime.datetime(2020, 4, 11, 13, 51, 33, tzinfo=tzlocal()), 'AssumeRolePolicyDocument': {'Version': '2012-10-17', 'Statement': [{'Effect': 'Allow', 'Principal': {'Service': 'importexport.amazonaws.com'}, 'Action': 'sts:AssumeRole'}]}, 'MaxSessionDuration': 3600}, {'Path': '/', 'RoleName': 'TenableRole', 'RoleId': 'AROAZOTIFNFLMEH2A3GYQ', 'Arn': 'arn:aws:iam::649832261974:role/TenableRole', 'CreateDate': datetime.datetime(2020, 3, 27, 20, 22, 49, tzinfo=tzlocal()), 'AssumeRolePolicyDocument': {'Version': '2012-10-17', 'Statement': [{'Effect': 'Allow', 'Principal': {'AWS': 'arn:aws:iam::012615275169:root'}, 'Action': 'sts:AssumeRole', 'Condition': {'StringEquals': {'sts:ExternalId': '09d5cee2-1311-49a5-9c73-689b0484d734'}}}]}, 'Description': '', 'MaxSessionDuration': 3600}, {'Path': '/', 'RoleName': 'TrendMicroRole', 'RoleId': 'AROAZOTIFNFLLGDYMIL4P', 'Arn': 'arn:aws:iam::649832261974:role/TrendMicroRole', 'CreateDate': datetime.datetime(2020, 3, 27, 20, 21, 49, tzinfo=tzlocal()), 'AssumeRolePolicyDocument': {'Version': '2012-10-17', 'Statement': [{'Effect': 'Allow', 'Principal': {'AWS': 'arn:aws:iam::147995105371:root'}, 'Action': 'sts:AssumeRole', 'Condition': {'StringEquals': {'sts:ExternalId': '503694a7-9348-49eb-b965-6c96d7dbb6b8'}}}]}, 'Description': '', 'MaxSessionDuration': 3600}, {'Path': '/', 'RoleName': 'trend_micro_cross_account_role', 'RoleId': 'AROAZOTIFNFLH4TTEXNQA', 'Arn': 'arn:aws:iam::649832261974:role/trend_micro_cross_account_role', 'CreateDate': datetime.datetime(2020, 3, 27, 20, 20, 57, tzinfo=tzlocal()), 'AssumeRolePolicyDocument': {'Version': '2012-10-17', 'Statement': [{'Effect': 'Allow', 'Principal': {'AWS': 'arn:aws:iam::103403959176:root'}, 'Action': 'sts:AssumeRole', 'Condition': {'StringEquals': {'sts:ExternalId': '@qvX=TG+7R-U'}}}]}, 'Description': '', 'MaxSessionDuration': 3600}, {'Path': '/', 'RoleName': 'vpc-peering-CloudML-InternalTr-LambdaExecutionRole-16KY7XRG9BONW', 'RoleId': 'AROAZOTIFNFLHDFONLC3D', 'Arn': 'arn:aws:iam::649832261974:role/vpc-peering-CloudML-InternalTr-LambdaExecutionRole-16KY7XRG9BONW', 'CreateDate': datetime.datetime(2020, 3, 27, 20, 42, 27, tzinfo=tzlocal()), 'AssumeRolePolicyDocument': {'Version': '2012-10-17', 'Statement': [{'Effect': 'Allow', 'Principal': {'Service': 'lambda.amazonaws.com'}, 'Action': 'sts:AssumeRole'}]}, 'Description': '', 'MaxSessionDuration': 3600}], 'IsTruncated': False, 'ResponseMetadata': {'RequestId': '706c3d32-d394-4da1-8869-0726b4018c9d', 'HTTPStatusCode': 200, 'HTTPHeaders': {'x-amzn-requestid': '706c3d32-d394-4da1-8869-0726b4018c9d', 'content-type': 'text/xml', 'content-length': '43179', 'vary': 'accept-encoding', 'date': 'Tue, 14 Apr 2020 07:35:40 GMT'}, 'RetryAttempts': 0}}\n"
     ]
    }
   ],
   "source": [
    "##Get a specific role details\n",
    "rl_resonse=iam_cons.get_role(RoleName='AmazonSageMaker-ExecutionRole-20200407T143126')\n",
    "print(rl_response)"
   ]
  },
  {
   "cell_type": "markdown",
   "metadata": {},
   "source": [
    "# Connect to Snowball console"
   ]
  },
  {
   "cell_type": "markdown",
   "metadata": {},
   "source": [
    "This command creates a connection to snowball console."
   ]
  },
  {
   "cell_type": "code",
   "execution_count": 108,
   "metadata": {},
   "outputs": [
    {
     "name": "stdout",
     "output_type": "stream",
     "text": [
      "connected to Snowball console\n"
     ]
    }
   ],
   "source": [
    "#Connect to Amazon Snowball console\n",
    "\n",
    "try:\n",
    "    snowball_cons=boto3.client('snowball')\n",
    "    print(\"connected to Snowball console\")\n",
    "except Exception as e:\n",
    "    print('snowball error: ',e)"
   ]
  },
  {
   "cell_type": "markdown",
   "metadata": {},
   "source": [
    "# Create shipping address "
   ]
  },
  {
   "cell_type": "markdown",
   "metadata": {},
   "source": [
    "Creates an address for a Snowball to be shipped to. In most regions, addresses are validated at the time of creation. The address you provide must be located within the serviceable area of your region. If the address is invalid or unsupported, then an exception is thrown"
   ]
  },
  {
   "cell_type": "code",
   "execution_count": 109,
   "metadata": {},
   "outputs": [
    {
     "name": "stdout",
     "output_type": "stream",
     "text": [
      "{'AddressId': 'ADID281138e6-2bfe-44b4-8c44-a7d509c711bd', 'ResponseMetadata': {'RequestId': '250565ce-9a58-4a63-a500-254c3fdc44e0', 'HTTPStatusCode': 200, 'HTTPHeaders': {'x-amzn-requestid': '250565ce-9a58-4a63-a500-254c3fdc44e0', 'content-type': 'application/x-amz-json-1.1', 'content-length': '56', 'date': 'Tue, 14 Apr 2020 07:44:23 GMT'}, 'RetryAttempts': 0}}\n"
     ]
    }
   ],
   "source": [
    "#Create an address id with valid details\n",
    "\n",
    "try:\n",
    "    address_response = snowball_cons.create_address(\n",
    "        Address={\n",
    "             'City': 'Columbus',\n",
    "        'Company': 'Deloitte',\n",
    "        'Country': 'US',\n",
    "        'Name': 'Nitin kawatra',\n",
    "        'PhoneNumber': '9686827766',\n",
    "        'PostalCode': '45402',\n",
    "        'StateOrProvince': 'OH',\n",
    "        'Street1': 'abc',\n",
    "        },\n",
    "    )\n",
    "\n",
    "    print(address_response)\n",
    "except Exception as e:\n",
    "    print('snowball error: ',e)"
   ]
  },
  {
   "cell_type": "markdown",
   "metadata": {},
   "source": [
    "# Get Address details of an Address Id"
   ]
  },
  {
   "cell_type": "markdown",
   "metadata": {},
   "source": [
    "Takes an AddressId and returns specific details about that address in the form of an Address object."
   ]
  },
  {
   "cell_type": "code",
   "execution_count": 112,
   "metadata": {},
   "outputs": [
    {
     "name": "stdout",
     "output_type": "stream",
     "text": [
      "{'Address': {'AddressId': 'ADID281138e6-2bfe-44b4-8c44-a7d509c711bd', 'Name': 'Nitin kawatra', 'Company': 'Deloitte', 'Street1': 'abc', 'City': 'Columbus', 'StateOrProvince': 'OH', 'Country': 'US', 'PostalCode': '45402', 'PhoneNumber': '9686827766', 'IsRestricted': False}, 'ResponseMetadata': {'RequestId': '3871e66d-f90b-4d55-85e6-0a9f775687d2', 'HTTPStatusCode': 200, 'HTTPHeaders': {'x-amzn-requestid': '3871e66d-f90b-4d55-85e6-0a9f775687d2', 'content-type': 'application/x-amz-json-1.1', 'content-length': '253', 'date': 'Tue, 14 Apr 2020 07:49:08 GMT'}, 'RetryAttempts': 0}}\n"
     ]
    }
   ],
   "source": [
    "#get all the details of an adress id\n",
    "\n",
    "try:\n",
    "    Adrs_response = snowball_cons.describe_address(\n",
    "         AddressId='ADID281138e6-2bfe-44b4-8c44-a7d509c711bd',\n",
    "    )\n",
    "\n",
    "    print(Adrs_response)\n",
    "except Exception as e:\n",
    "    print('snowball error: ',e)"
   ]
  },
  {
   "cell_type": "markdown",
   "metadata": {},
   "source": [
    "# Create Snowball Import Job"
   ]
  },
  {
   "cell_type": "markdown",
   "metadata": {},
   "source": [
    "Creates a job to import or export data between Amazon S3 and your on-premises data center. Your AWS account must have the right trust policies and permissions in place to create a job for Snowball."
   ]
  },
  {
   "cell_type": "code",
   "execution_count": 113,
   "metadata": {},
   "outputs": [
    {
     "name": "stdout",
     "output_type": "stream",
     "text": [
      "{'JobId': 'JID9c15d35c-88b0-421e-ad8f-e5c0302c7a31', 'ResponseMetadata': {'RequestId': 'dadefcba-6b8d-4fd7-b15e-5c52de336f6a', 'HTTPStatusCode': 200, 'HTTPHeaders': {'x-amzn-requestid': 'dadefcba-6b8d-4fd7-b15e-5c52de336f6a', 'content-type': 'application/x-amz-json-1.1', 'content-length': '51', 'date': 'Tue, 14 Apr 2020 07:49:17 GMT'}, 'RetryAttempts': 0}}\n",
      "\n",
      " \n",
      " Snowball import job has been created successfully\n"
     ]
    }
   ],
   "source": [
    "#Create a snowball import job\n",
    "try:\n",
    "    job_response = snowball_cons.create_job(\n",
    "    AddressId='ADID281138e6-2bfe-44b4-8c44-a7d509c711bd',\n",
    "    Description='Snowball Import job',\n",
    "    JobType='IMPORT',\n",
    "    KmsKeyARN='arn:aws:kms:us-east-2:649832261974:key/73973aa1-5d85-45ad-ad5c-f0a5846adf66',\n",
    "    Notification={\n",
    "        'SnsTopicARN': 'arn:aws:sns:us-east-2:649832261974:Snowball_topic',\n",
    "        'JobStatesToNotify': [\n",
    "        ],\n",
    "        'NotifyAll': True,\n",
    "    },\n",
    "    Resources={\n",
    "        'S3Resources': [\n",
    "            {\n",
    "                'BucketArn': 'arn:aws:s3:::snowball-import-job-nitink1',\n",
    "                'KeyRange': {\n",
    "                },\n",
    "            },\n",
    "        ],\n",
    "    },\n",
    "    RoleARN='arn:aws:iam::649832261974:role/snowball-import-export-s3-role3',\n",
    "    ShippingOption='SECOND_DAY',\n",
    "    SnowballCapacityPreference='T100',\n",
    "    SnowballType='EDGE',\n",
    ")\n",
    "    print(job_response)\n",
    "\n",
    "    print(\"\\n \\n Snowball import job has been created successfully\")\n",
    "except Exception as e:\n",
    "    print('snowball error: ',e)"
   ]
  },
  {
   "cell_type": "markdown",
   "metadata": {},
   "source": [
    "# Get all the snowball job lists"
   ]
  },
  {
   "cell_type": "markdown",
   "metadata": {},
   "source": [
    "Returns an array of JobListEntry objects of the specified length. Each JobListEntry object contains a job's state, a job's ID, and a value that indicates whether the job is a job part, in the case of export jobs."
   ]
  },
  {
   "cell_type": "code",
   "execution_count": 116,
   "metadata": {},
   "outputs": [
    {
     "name": "stdout",
     "output_type": "stream",
     "text": [
      "{'JobListEntries': [{'JobId': 'JID19b4ba5e-5277-4851-826d-28127d093447', 'JobState': 'Cancelled', 'IsMaster': False, 'JobType': 'IMPORT', 'SnowballType': 'EDGE', 'CreationDate': datetime.datetime(2020, 4, 11, 14, 31, 45, 498000, tzinfo=tzlocal()), 'Description': 'Snowball Import job'}, {'JobId': 'JID601a3124-9a0a-489e-b990-5518f21f085a', 'JobState': 'InTransitToCustomer', 'IsMaster': False, 'JobType': 'IMPORT', 'SnowballType': 'EDGE', 'CreationDate': datetime.datetime(2020, 4, 11, 14, 31, 0, 800000, tzinfo=tzlocal()), 'Description': 'Snowball Import job'}, {'JobId': 'JID9c15d35c-88b0-421e-ad8f-e5c0302c7a31', 'JobState': 'New', 'IsMaster': False, 'JobType': 'IMPORT', 'SnowballType': 'EDGE', 'CreationDate': datetime.datetime(2020, 4, 14, 7, 49, 17, 64000, tzinfo=tzlocal()), 'Description': 'Snowball Import job'}], 'ResponseMetadata': {'RequestId': '2a45f30c-f053-44cf-a50a-0ddd8573572e', 'HTTPStatusCode': 200, 'HTTPHeaders': {'x-amzn-requestid': '2a45f30c-f053-44cf-a50a-0ddd8573572e', 'content-type': 'application/x-amz-json-1.1', 'content-length': '625', 'date': 'Tue, 14 Apr 2020 07:50:49 GMT'}, 'RetryAttempts': 0}}\n"
     ]
    }
   ],
   "source": [
    "#List all the snowball jobs in your account\n",
    "\n",
    "try:\n",
    "    jb_response = snowball_cons.list_jobs()\n",
    "\n",
    "    print(jb_response)\n",
    "except Exception as e:\n",
    "    print('snowball error: ',e)"
   ]
  },
  {
   "cell_type": "markdown",
   "metadata": {},
   "source": [
    "# Get Job Details"
   ]
  },
  {
   "cell_type": "markdown",
   "metadata": {},
   "source": [
    "Returns information about a specific job including shipping information, job status, and other important metadata."
   ]
  },
  {
   "cell_type": "code",
   "execution_count": 117,
   "metadata": {},
   "outputs": [
    {
     "name": "stdout",
     "output_type": "stream",
     "text": [
      "{'JobMetadata': {'JobId': 'JID9c15d35c-88b0-421e-ad8f-e5c0302c7a31', 'JobState': 'New', 'JobType': 'IMPORT', 'SnowballType': 'EDGE', 'CreationDate': datetime.datetime(2020, 4, 14, 7, 49, 17, 64000, tzinfo=tzlocal()), 'Resources': {'S3Resources': [{'BucketArn': 'arn:aws:s3:::snowball-import-job-nitink1', 'KeyRange': {}}]}, 'Description': 'Snowball Import job', 'KmsKeyARN': 'arn:aws:kms:us-east-2:649832261974:key/73973aa1-5d85-45ad-ad5c-f0a5846adf66', 'RoleARN': 'arn:aws:iam::649832261974:role/snowball-import-export-s3-role3', 'AddressId': 'ADID281138e6-2bfe-44b4-8c44-a7d509c711bd', 'ShippingDetails': {'ShippingOption': 'SECOND_DAY'}, 'SnowballCapacityPreference': 'T100', 'Notification': {'SnsTopicARN': 'arn:aws:sns:us-east-2:649832261974:Snowball_topic', 'JobStatesToNotify': ['Cancelled', 'Complete', 'InProgress', 'InTransitToAWS', 'InTransitToCustomer', 'New', 'PreparingAppliance', 'PreparingShipment', 'InProgress', 'WithAWS', 'WithAWSSortingFacility', 'WithCustomer'], 'NotifyAll': False}}, 'ResponseMetadata': {'RequestId': '0d51495f-cdd9-462a-8cf6-abbd94327c9a', 'HTTPStatusCode': 200, 'HTTPHeaders': {'x-amzn-requestid': '0d51495f-cdd9-462a-8cf6-abbd94327c9a', 'content-type': 'application/x-amz-json-1.1', 'content-length': '908', 'date': 'Tue, 14 Apr 2020 07:51:20 GMT'}, 'RetryAttempts': 0}}\n"
     ]
    }
   ],
   "source": [
    "#Get all the details of a snowball job\n",
    "\n",
    "try:\n",
    "    jb_response = snowball_cons.describe_job( JobId='JID9c15d35c-88b0-421e-ad8f-e5c0302c7a31' )\n",
    "\n",
    "    print(jb_response)\n",
    "except Exception as e:\n",
    "    print('snowball job error: ',e)"
   ]
  },
  {
   "cell_type": "markdown",
   "metadata": {},
   "source": [
    "# Cancel Snowball job"
   ]
  },
  {
   "cell_type": "markdown",
   "metadata": {},
   "source": [
    "Cancels the specified job. You can only cancel a job before its JobState value changes to “Preparing Appliance” . You can only cancel jobs can when they have Job created status. Once a job begins processing, you can no longer cancel it. If you need to cancel a job request or a cluster creation request for any reason, you have at least an hour after you created the request to do so."
   ]
  },
  {
   "cell_type": "code",
   "execution_count": 119,
   "metadata": {},
   "outputs": [
    {
     "name": "stdout",
     "output_type": "stream",
     "text": [
      "cancel job error:  An error occurred (InvalidResourceException) when calling the CancelJob operation: The specified job id does not exist.\n"
     ]
    }
   ],
   "source": [
    "#Cancel the snowball job\n",
    "\n",
    "try:\n",
    "    cancel_response = snowball_cons.cancel_job( JobId='JID7e24c18a-e73a-4b5a-aa6f-7adf448950af')\n",
    "\n",
    "    print(cancel_response)\n",
    "except Exception as e:\n",
    "    print('cancel job error: ',e)\n"
   ]
  }
 ],
 "metadata": {
  "kernelspec": {
   "display_name": "conda_python3",
   "language": "python",
   "name": "conda_python3"
  },
  "language_info": {
   "codemirror_mode": {
    "name": "ipython",
    "version": 3
   },
   "file_extension": ".py",
   "mimetype": "text/x-python",
   "name": "python",
   "nbconvert_exporter": "python",
   "pygments_lexer": "ipython3",
   "version": "3.6.5"
  }
 },
 "nbformat": 4,
 "nbformat_minor": 2
}
